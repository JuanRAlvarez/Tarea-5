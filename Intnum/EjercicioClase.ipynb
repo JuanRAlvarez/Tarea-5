{
 "metadata": {
  "name": "",
  "signature": "sha256:132905e4880693417316b1e1d284ce58cf736b53798da157db32bde76ec04bd9"
 },
 "nbformat": 3,
 "nbformat_minor": 0,
 "worksheets": [
  {
   "cells": [
    {
     "cell_type": "code",
     "collapsed": false,
     "input": [
      "from subprocess import call\n",
      "%pylab inline"
     ],
     "language": "python",
     "metadata": {},
     "outputs": [
      {
       "output_type": "stream",
       "stream": "stdout",
       "text": [
        "Populating the interactive namespace from numpy and matplotlib\n"
       ]
      }
     ],
     "prompt_number": 80
    },
    {
     "cell_type": "code",
     "collapsed": false,
     "input": [
      "!cat 10dims.c"
     ],
     "language": "python",
     "metadata": {},
     "outputs": [
      {
       "output_type": "stream",
       "stream": "stdout",
       "text": [
        "#include <stdio.h>\r\n",
        "#include <math.h>\r\n",
        "#include <stdlib.h>\r\n",
        "#define USAGE \"USAGE: ./pi.x n_points\"\r\n",
        "#define PI 25.83333333\r\n",
        "\r\n",
        "int main(int argc, char **argv){\r\n",
        "    \r\n",
        "    int n_points;\r\n",
        "    float **x;\r\n",
        "    int i;\r\n",
        "    int j;\r\n",
        "    int k;\r\n",
        "    float a;\r\n",
        "    float q;\r\n",
        "    int seed;\r\n",
        "    float suma;\r\n",
        "    float integrando;\r\n",
        "    float integral;\r\n",
        "    int n_dims;\r\n",
        "    \r\n",
        "    n_dims = 10;\r\n",
        "    \r\n",
        "    \r\n",
        "    j=0;\r\n",
        "    \r\n",
        "    n_points = atoi(argv[1]);\r\n",
        "    seed = atoi(argv[2]);\r\n",
        "    \r\n",
        "    \r\n",
        "    x=malloc(n_points * sizeof(float *));\r\n",
        "    for (i=0;i<n_points;i++){\r\n",
        "        x[i] = malloc(n_dims*sizeof(float));\r\n",
        "    \r\n",
        "    }\r\n",
        "    \r\n",
        "    if (argc!=3) {\r\n",
        "        printf(\"%s\\n\", USAGE);\r\n",
        "        exit(1);\r\n",
        "    }\r\n",
        "    \r\n",
        "    \r\n",
        "    /*printf (\"Using %d points to integrate \\n\", n_points);\r\n",
        "    printf (\"Expected value %f\\n\", PI);*/\r\n",
        "    \r\n",
        "    \r\n",
        "    srand48(seed);\r\n",
        "    \r\n",
        "    integrando = 0.0;\r\n",
        "    \r\n",
        "    for (i=0; i<n_points; i++){\r\n",
        "        suma = 0;\r\n",
        "        for (j=0;j<n_dims;j++){\r\n",
        "        x[i][j] = drand48();\r\n",
        "        suma = suma + x[i][j];\r\n",
        "        }\r\n",
        "        integrando = integrando + pow(suma,2);\r\n",
        "        }\r\n",
        "    \r\n",
        "    integral = integrando/n_points;\r\n",
        "    \r\n",
        "    printf(\"%f \\n\",integral);\r\n",
        "    \r\n",
        "}"
       ]
      }
     ],
     "prompt_number": 81
    },
    {
     "cell_type": "code",
     "collapsed": false,
     "input": [
      "!cc 10dims.c -o 10d.x"
     ],
     "language": "python",
     "metadata": {},
     "outputs": [],
     "prompt_number": 82
    },
    {
     "cell_type": "code",
     "collapsed": false,
     "input": [
      "!ls\n",
      "!rm tmp.out"
     ],
     "language": "python",
     "metadata": {},
     "outputs": [
      {
       "output_type": "stream",
       "stream": "stdout",
       "text": [
        "\u001b[31m10d.x\u001b[m\u001b[m                \u001b[31ma.out\u001b[m\u001b[m                \u001b[31mpi.x\u001b[m\u001b[m\r\n",
        "10dims.c             hola.c               tmp.out\r\n",
        "EjercicioClase.ipynb \u001b[31mhola.x\u001b[m\u001b[m\r\n",
        "Untitled0.ipynb      integraapi.c\r\n"
       ]
      }
     ],
     "prompt_number": 90
    },
    {
     "cell_type": "code",
     "collapsed": false,
     "input": [
      "n_seeds = 10\n",
      "n_iters = 100\n",
      "\n",
      "\n",
      "for j in range(1,n_iters): #Numero de iteraciones#\n",
      "        for i in range(1,n_seeds): #Numero de semillas#\n",
      "            command = \"./10d.x %d %d >> tmp.out\"%(j,i)\n",
      "            print command\n",
      "            retcode = call(command,shell=True)"
     ],
     "language": "python",
     "metadata": {},
     "outputs": [
      {
       "output_type": "stream",
       "stream": "stdout",
       "text": [
        "./10d.x 1 1 >> tmp.out\n",
        "./10d.x 1 2 >> tmp.out\n",
        "./10d.x 1 3 >> tmp.out\n",
        "./10d.x 1 4 >> tmp.out\n",
        "./10d.x 1 5 >> tmp.out"
       ]
      },
      {
       "output_type": "stream",
       "stream": "stdout",
       "text": [
        "\n",
        "./10d.x 1 6 >> tmp.out\n",
        "./10d.x 1 7 >> tmp.out\n",
        "./10d.x 1 8 >> tmp.out\n",
        "./10d.x 1 9 >> tmp.out"
       ]
      },
      {
       "output_type": "stream",
       "stream": "stdout",
       "text": [
        "\n",
        "./10d.x 2 1 >> tmp.out\n",
        "./10d.x 2 2 >> tmp.out\n",
        "./10d.x 2 3 >> tmp.out\n",
        "./10d.x 2 4 >> tmp.out"
       ]
      },
      {
       "output_type": "stream",
       "stream": "stdout",
       "text": [
        "\n",
        "./10d.x 2 5 >> tmp.out\n",
        "./10d.x 2 6 >> tmp.out\n",
        "./10d.x 2 7 >> tmp.out\n",
        "./10d.x 2 8 >> tmp.out"
       ]
      },
      {
       "output_type": "stream",
       "stream": "stdout",
       "text": [
        "\n",
        "./10d.x 2 9 >> tmp.out\n",
        "./10d.x 3 1 >> tmp.out\n",
        "./10d.x 3 2 >> tmp.out\n",
        "./10d.x 3 3 >> tmp.out\n",
        "./10d.x 3 4 >> tmp.out"
       ]
      },
      {
       "output_type": "stream",
       "stream": "stdout",
       "text": [
        "\n",
        "./10d.x 3 5 >> tmp.out\n",
        "./10d.x 3 6 >> tmp.out\n",
        "./10d.x 3 7 >> tmp.out\n",
        "./10d.x 3 8 >> tmp.out\n",
        "./10d.x 3 9 >> tmp.out"
       ]
      },
      {
       "output_type": "stream",
       "stream": "stdout",
       "text": [
        "\n",
        "./10d.x 4 1 >> tmp.out\n",
        "./10d.x 4 2 >> tmp.out\n",
        "./10d.x 4 3 >> tmp.out\n",
        "./10d.x 4 4 >> tmp.out\n",
        "./10d.x 4 5 >> tmp.out"
       ]
      },
      {
       "output_type": "stream",
       "stream": "stdout",
       "text": [
        "\n",
        "./10d.x 4 6 >> tmp.out\n",
        "./10d.x 4 7 >> tmp.out\n",
        "./10d.x 4 8 >> tmp.out\n",
        "./10d.x 4 9 >> tmp.out\n",
        "./10d.x 5 1 >> tmp.out"
       ]
      },
      {
       "output_type": "stream",
       "stream": "stdout",
       "text": [
        "\n",
        "./10d.x 5 2 >> tmp.out\n",
        "./10d.x 5 3 >> tmp.out\n",
        "./10d.x 5 4 >> tmp.out\n",
        "./10d.x 5 5 >> tmp.out\n",
        "./10d.x 5 6 >> tmp.out"
       ]
      },
      {
       "output_type": "stream",
       "stream": "stdout",
       "text": [
        "\n",
        "./10d.x 5 7 >> tmp.out\n",
        "./10d.x 5 8 >> tmp.out\n",
        "./10d.x 5 9 >> tmp.out\n",
        "./10d.x 6 1 >> tmp.out"
       ]
      },
      {
       "output_type": "stream",
       "stream": "stdout",
       "text": [
        "\n",
        "./10d.x 6 2 >> tmp.out\n",
        "./10d.x 6 3 >> tmp.out\n",
        "./10d.x 6 4 >> tmp.out\n",
        "./10d.x 6 5 >> tmp.out\n",
        "./10d.x 6 6 >> tmp.out"
       ]
      },
      {
       "output_type": "stream",
       "stream": "stdout",
       "text": [
        "\n",
        "./10d.x 6 7 >> tmp.out\n",
        "./10d.x 6 8 >> tmp.out\n",
        "./10d.x 6 9 >> tmp.out\n",
        "./10d.x 7 1 >> tmp.out"
       ]
      },
      {
       "output_type": "stream",
       "stream": "stdout",
       "text": [
        "\n",
        "./10d.x 7 2 >> tmp.out\n",
        "./10d.x 7 3 >> tmp.out\n",
        "./10d.x 7 4 >> tmp.out\n",
        "./10d.x 7 5 >> tmp.out\n",
        "./10d.x 7 6 >> tmp.out"
       ]
      },
      {
       "output_type": "stream",
       "stream": "stdout",
       "text": [
        "\n",
        "./10d.x 7 7 >> tmp.out\n",
        "./10d.x 7 8 >> tmp.out\n",
        "./10d.x 7 9 >> tmp.out\n",
        "./10d.x 8 1 >> tmp.out\n",
        "./10d.x 8 2 >> tmp.out"
       ]
      },
      {
       "output_type": "stream",
       "stream": "stdout",
       "text": [
        "\n",
        "./10d.x 8 3 >> tmp.out\n",
        "./10d.x 8 4 >> tmp.out\n",
        "./10d.x 8 5 >> tmp.out\n",
        "./10d.x 8 6 >> tmp.out"
       ]
      },
      {
       "output_type": "stream",
       "stream": "stdout",
       "text": [
        "\n",
        "./10d.x 8 7 >> tmp.out\n",
        "./10d.x 8 8 >> tmp.out\n",
        "./10d.x 8 9 >> tmp.out\n",
        "./10d.x 9 1 >> tmp.out"
       ]
      },
      {
       "output_type": "stream",
       "stream": "stdout",
       "text": [
        "\n",
        "./10d.x 9 2 >> tmp.out\n",
        "./10d.x 9 3 >> tmp.out\n",
        "./10d.x 9 4 >> tmp.out\n",
        "./10d.x 9 5 >> tmp.out"
       ]
      },
      {
       "output_type": "stream",
       "stream": "stdout",
       "text": [
        "\n",
        "./10d.x 9 6 >> tmp.out\n",
        "./10d.x 9 7 >> tmp.out\n",
        "./10d.x 9 8 >> tmp.out\n",
        "./10d.x 9 9 >> tmp.out"
       ]
      },
      {
       "output_type": "stream",
       "stream": "stdout",
       "text": [
        "\n",
        "./10d.x 10 1 >> tmp.out\n",
        "./10d.x 10 2 >> tmp.out\n",
        "./10d.x 10 3 >> tmp.out\n",
        "./10d.x 10 4 >> tmp.out"
       ]
      },
      {
       "output_type": "stream",
       "stream": "stdout",
       "text": [
        "\n",
        "./10d.x 10 5 >> tmp.out\n",
        "./10d.x 10 6 >> tmp.out\n",
        "./10d.x 10 7 >> tmp.out\n",
        "./10d.x 10 8 >> tmp.out"
       ]
      },
      {
       "output_type": "stream",
       "stream": "stdout",
       "text": [
        "\n",
        "./10d.x 10 9 >> tmp.out\n",
        "./10d.x 11 1 >> tmp.out\n",
        "./10d.x 11 2 >> tmp.out\n",
        "./10d.x 11 3 >> tmp.out"
       ]
      },
      {
       "output_type": "stream",
       "stream": "stdout",
       "text": [
        "\n",
        "./10d.x 11 4 >> tmp.out\n",
        "./10d.x 11 5 >> tmp.out\n",
        "./10d.x 11 6 >> tmp.out\n",
        "./10d.x 11 7 >> tmp.out"
       ]
      },
      {
       "output_type": "stream",
       "stream": "stdout",
       "text": [
        "\n",
        "./10d.x 11 8 >> tmp.out\n",
        "./10d.x 11 9 >> tmp.out\n",
        "./10d.x 12 1 >> tmp.out\n",
        "./10d.x 12 2 >> tmp.out"
       ]
      },
      {
       "output_type": "stream",
       "stream": "stdout",
       "text": [
        "\n",
        "./10d.x 12 3 >> tmp.out\n",
        "./10d.x 12 4 >> tmp.out\n",
        "./10d.x 12 5 >> tmp.out\n",
        "./10d.x 12 6 >> tmp.out"
       ]
      },
      {
       "output_type": "stream",
       "stream": "stdout",
       "text": [
        "\n",
        "./10d.x 12 7 >> tmp.out\n",
        "./10d.x 12 8 >> tmp.out\n",
        "./10d.x 12 9 >> tmp.out\n",
        "./10d.x 13 1 >> tmp.out"
       ]
      },
      {
       "output_type": "stream",
       "stream": "stdout",
       "text": [
        "\n",
        "./10d.x 13 2 >> tmp.out\n",
        "./10d.x 13 3 >> tmp.out\n",
        "./10d.x 13 4 >> tmp.out\n",
        "./10d.x 13 5 >> tmp.out"
       ]
      },
      {
       "output_type": "stream",
       "stream": "stdout",
       "text": [
        "\n",
        "./10d.x 13 6 >> tmp.out\n",
        "./10d.x 13 7 >> tmp.out\n",
        "./10d.x 13 8 >> tmp.out\n",
        "./10d.x 13 9 >> tmp.out"
       ]
      },
      {
       "output_type": "stream",
       "stream": "stdout",
       "text": [
        "\n",
        "./10d.x 14 1 >> tmp.out\n",
        "./10d.x 14 2 >> tmp.out\n",
        "./10d.x 14 3 >> tmp.out\n",
        "./10d.x 14 4 >> tmp.out"
       ]
      },
      {
       "output_type": "stream",
       "stream": "stdout",
       "text": [
        "\n",
        "./10d.x 14 5 >> tmp.out\n",
        "./10d.x 14 6 >> tmp.out\n",
        "./10d.x 14 7 >> tmp.out\n",
        "./10d.x 14 8 >> tmp.out\n",
        "./10d.x 14 9 >> tmp.out"
       ]
      },
      {
       "output_type": "stream",
       "stream": "stdout",
       "text": [
        "\n",
        "./10d.x 15 1 >> tmp.out\n",
        "./10d.x 15 2 >> tmp.out\n",
        "./10d.x 15 3 >> tmp.out\n",
        "./10d.x 15 4 >> tmp.out"
       ]
      },
      {
       "output_type": "stream",
       "stream": "stdout",
       "text": [
        "\n",
        "./10d.x 15 5 >> tmp.out\n",
        "./10d.x 15 6 >> tmp.out\n",
        "./10d.x 15 7 >> tmp.out\n",
        "./10d.x 15 8 >> tmp.out"
       ]
      },
      {
       "output_type": "stream",
       "stream": "stdout",
       "text": [
        "\n",
        "./10d.x 15 9 >> tmp.out\n",
        "./10d.x 16 1 >> tmp.out\n",
        "./10d.x 16 2 >> tmp.out\n",
        "./10d.x 16 3 >> tmp.out\n",
        "./10d.x 16 4 >> tmp.out"
       ]
      },
      {
       "output_type": "stream",
       "stream": "stdout",
       "text": [
        "\n",
        "./10d.x 16 5 >> tmp.out\n",
        "./10d.x 16 6 >> tmp.out\n",
        "./10d.x 16 7 >> tmp.out\n",
        "./10d.x 16 8 >> tmp.out\n",
        "./10d.x 16 9 >> tmp.out"
       ]
      },
      {
       "output_type": "stream",
       "stream": "stdout",
       "text": [
        "\n",
        "./10d.x 17 1 >> tmp.out\n",
        "./10d.x 17 2 >> tmp.out\n",
        "./10d.x 17 3 >> tmp.out\n",
        "./10d.x 17 4 >> tmp.out\n",
        "./10d.x 17 5 >> tmp.out"
       ]
      },
      {
       "output_type": "stream",
       "stream": "stdout",
       "text": [
        "\n",
        "./10d.x 17 6 >> tmp.out\n",
        "./10d.x 17 7 >> tmp.out\n",
        "./10d.x 17 8 >> tmp.out\n",
        "./10d.x 17 9 >> tmp.out\n",
        "./10d.x 18 1 >> tmp.out"
       ]
      },
      {
       "output_type": "stream",
       "stream": "stdout",
       "text": [
        "\n",
        "./10d.x 18 2 >> tmp.out\n",
        "./10d.x 18 3 >> tmp.out\n",
        "./10d.x 18 4 >> tmp.out\n",
        "./10d.x 18 5 >> tmp.out\n",
        "./10d.x 18 6 >> tmp.out"
       ]
      },
      {
       "output_type": "stream",
       "stream": "stdout",
       "text": [
        "\n",
        "./10d.x 18 7 >> tmp.out\n",
        "./10d.x 18 8 >> tmp.out\n",
        "./10d.x 18 9 >> tmp.out\n",
        "./10d.x 19 1 >> tmp.out\n",
        "./10d.x 19 2 >> tmp.out"
       ]
      },
      {
       "output_type": "stream",
       "stream": "stdout",
       "text": [
        "\n",
        "./10d.x 19 3 >> tmp.out\n",
        "./10d.x 19 4 >> tmp.out\n",
        "./10d.x 19 5 >> tmp.out\n",
        "./10d.x 19 6 >> tmp.out\n",
        "./10d.x 19 7 >> tmp.out"
       ]
      },
      {
       "output_type": "stream",
       "stream": "stdout",
       "text": [
        "\n",
        "./10d.x 19 8 >> tmp.out\n",
        "./10d.x 19 9 >> tmp.out\n",
        "./10d.x 20 1 >> tmp.out\n",
        "./10d.x 20 2 >> tmp.out\n",
        "./10d.x 20 3 >> tmp.out"
       ]
      },
      {
       "output_type": "stream",
       "stream": "stdout",
       "text": [
        "\n",
        "./10d.x 20 4 >> tmp.out\n",
        "./10d.x 20 5 >> tmp.out\n",
        "./10d.x 20 6 >> tmp.out\n",
        "./10d.x 20 7 >> tmp.out\n",
        "./10d.x 20 8 >> tmp.out"
       ]
      },
      {
       "output_type": "stream",
       "stream": "stdout",
       "text": [
        "\n",
        "./10d.x 20 9 >> tmp.out\n",
        "./10d.x 21 1 >> tmp.out\n",
        "./10d.x 21 2 >> tmp.out\n",
        "./10d.x 21 3 >> tmp.out"
       ]
      },
      {
       "output_type": "stream",
       "stream": "stdout",
       "text": [
        "\n",
        "./10d.x 21 4 >> tmp.out\n",
        "./10d.x 21 5 >> tmp.out\n",
        "./10d.x 21 6 >> tmp.out\n",
        "./10d.x 21 7 >> tmp.out"
       ]
      },
      {
       "output_type": "stream",
       "stream": "stdout",
       "text": [
        "\n",
        "./10d.x 21 8 >> tmp.out\n",
        "./10d.x 21 9 >> tmp.out\n",
        "./10d.x 22 1 >> tmp.out\n",
        "./10d.x 22 2 >> tmp.out"
       ]
      },
      {
       "output_type": "stream",
       "stream": "stdout",
       "text": [
        "\n",
        "./10d.x 22 3 >> tmp.out\n",
        "./10d.x 22 4 >> tmp.out\n",
        "./10d.x 22 5 >> tmp.out\n",
        "./10d.x 22 6 >> tmp.out"
       ]
      },
      {
       "output_type": "stream",
       "stream": "stdout",
       "text": [
        "\n",
        "./10d.x 22 7 >> tmp.out\n",
        "./10d.x 22 8 >> tmp.out\n",
        "./10d.x 22 9 >> tmp.out\n",
        "./10d.x 23 1 >> tmp.out"
       ]
      },
      {
       "output_type": "stream",
       "stream": "stdout",
       "text": [
        "\n",
        "./10d.x 23 2 >> tmp.out\n",
        "./10d.x 23 3 >> tmp.out\n",
        "./10d.x 23 4 >> tmp.out\n",
        "./10d.x 23 5 >> tmp.out"
       ]
      },
      {
       "output_type": "stream",
       "stream": "stdout",
       "text": [
        "\n",
        "./10d.x 23 6 >> tmp.out\n",
        "./10d.x 23 7 >> tmp.out\n",
        "./10d.x 23 8 >> tmp.out\n",
        "./10d.x 23 9 >> tmp.out"
       ]
      },
      {
       "output_type": "stream",
       "stream": "stdout",
       "text": [
        "\n",
        "./10d.x 24 1 >> tmp.out\n",
        "./10d.x 24 2 >> tmp.out\n",
        "./10d.x 24 3 >> tmp.out\n",
        "./10d.x 24 4 >> tmp.out\n",
        "./10d.x 24 5 >> tmp.out"
       ]
      },
      {
       "output_type": "stream",
       "stream": "stdout",
       "text": [
        "\n",
        "./10d.x 24 6 >> tmp.out\n",
        "./10d.x 24 7 >> tmp.out\n",
        "./10d.x 24 8 >> tmp.out\n",
        "./10d.x 24 9 >> tmp.out\n",
        "./10d.x 25 1 >> tmp.out"
       ]
      },
      {
       "output_type": "stream",
       "stream": "stdout",
       "text": [
        "\n",
        "./10d.x 25 2 >> tmp.out\n",
        "./10d.x 25 3 >> tmp.out\n",
        "./10d.x 25 4 >> tmp.out\n",
        "./10d.x 25 5 >> tmp.out\n",
        "./10d.x 25 6 >> tmp.out"
       ]
      },
      {
       "output_type": "stream",
       "stream": "stdout",
       "text": [
        "\n",
        "./10d.x 25 7 >> tmp.out\n",
        "./10d.x 25 8 >> tmp.out\n",
        "./10d.x 25 9 >> tmp.out\n",
        "./10d.x 26 1 >> tmp.out\n",
        "./10d.x 26 2 >> tmp.out"
       ]
      },
      {
       "output_type": "stream",
       "stream": "stdout",
       "text": [
        "\n",
        "./10d.x 26 3 >> tmp.out\n",
        "./10d.x 26 4 >> tmp.out\n",
        "./10d.x 26 5 >> tmp.out\n",
        "./10d.x 26 6 >> tmp.out\n",
        "./10d.x 26 7 >> tmp.out"
       ]
      },
      {
       "output_type": "stream",
       "stream": "stdout",
       "text": [
        "\n",
        "./10d.x 26 8 >> tmp.out\n",
        "./10d.x 26 9 >> tmp.out\n",
        "./10d.x 27 1 >> tmp.out\n",
        "./10d.x 27 2 >> tmp.out\n",
        "./10d.x 27 3 >> tmp.out"
       ]
      },
      {
       "output_type": "stream",
       "stream": "stdout",
       "text": [
        "\n",
        "./10d.x 27 4 >> tmp.out\n",
        "./10d.x 27 5 >> tmp.out\n",
        "./10d.x 27 6 >> tmp.out\n",
        "./10d.x 27 7 >> tmp.out\n",
        "./10d.x 27 8 >> tmp.out"
       ]
      },
      {
       "output_type": "stream",
       "stream": "stdout",
       "text": [
        "\n",
        "./10d.x 27 9 >> tmp.out\n",
        "./10d.x 28 1 >> tmp.out\n",
        "./10d.x 28 2 >> tmp.out\n",
        "./10d.x 28 3 >> tmp.out\n",
        "./10d.x 28 4 >> tmp.out"
       ]
      },
      {
       "output_type": "stream",
       "stream": "stdout",
       "text": [
        "\n",
        "./10d.x 28 5 >> tmp.out\n",
        "./10d.x 28 6 >> tmp.out\n",
        "./10d.x 28 7 >> tmp.out\n",
        "./10d.x 28 8 >> tmp.out\n",
        "./10d.x 28 9 >> tmp.out"
       ]
      },
      {
       "output_type": "stream",
       "stream": "stdout",
       "text": [
        "\n",
        "./10d.x 29 1 >> tmp.out\n",
        "./10d.x 29 2 >> tmp.out\n",
        "./10d.x 29 3 >> tmp.out\n",
        "./10d.x 29 4 >> tmp.out\n",
        "./10d.x 29 5 >> tmp.out"
       ]
      },
      {
       "output_type": "stream",
       "stream": "stdout",
       "text": [
        "\n",
        "./10d.x 29 6 >> tmp.out\n",
        "./10d.x 29 7 >> tmp.out\n",
        "./10d.x 29 8 >> tmp.out\n",
        "./10d.x 29 9 >> tmp.out\n",
        "./10d.x 30 1 >> tmp.out"
       ]
      },
      {
       "output_type": "stream",
       "stream": "stdout",
       "text": [
        "\n",
        "./10d.x 30 2 >> tmp.out\n",
        "./10d.x 30 3 >> tmp.out\n",
        "./10d.x 30 4 >> tmp.out\n",
        "./10d.x 30 5 >> tmp.out\n",
        "./10d.x 30 6 >> tmp.out"
       ]
      },
      {
       "output_type": "stream",
       "stream": "stdout",
       "text": [
        "\n",
        "./10d.x 30 7 >> tmp.out\n",
        "./10d.x 30 8 >> tmp.out\n",
        "./10d.x 30 9 >> tmp.out\n",
        "./10d.x 31 1 >> tmp.out\n",
        "./10d.x 31 2 >> tmp.out"
       ]
      },
      {
       "output_type": "stream",
       "stream": "stdout",
       "text": [
        "\n",
        "./10d.x 31 3 >> tmp.out\n",
        "./10d.x 31 4 >> tmp.out\n",
        "./10d.x 31 5 >> tmp.out\n",
        "./10d.x 31 6 >> tmp.out"
       ]
      },
      {
       "output_type": "stream",
       "stream": "stdout",
       "text": [
        "\n",
        "./10d.x 31 7 >> tmp.out\n",
        "./10d.x 31 8 >> tmp.out\n",
        "./10d.x 31 9 >> tmp.out\n",
        "./10d.x 32 1 >> tmp.out\n",
        "./10d.x 32 2 >> tmp.out"
       ]
      },
      {
       "output_type": "stream",
       "stream": "stdout",
       "text": [
        "\n",
        "./10d.x 32 3 >> tmp.out\n",
        "./10d.x 32 4 >> tmp.out\n",
        "./10d.x 32 5 >> tmp.out\n",
        "./10d.x 32 6 >> tmp.out"
       ]
      },
      {
       "output_type": "stream",
       "stream": "stdout",
       "text": [
        "\n",
        "./10d.x 32 7 >> tmp.out\n",
        "./10d.x 32 8 >> tmp.out\n",
        "./10d.x 32 9 >> tmp.out\n",
        "./10d.x 33 1 >> tmp.out\n",
        "./10d.x 33 2 >> tmp.out"
       ]
      },
      {
       "output_type": "stream",
       "stream": "stdout",
       "text": [
        "\n",
        "./10d.x 33 3 >> tmp.out\n",
        "./10d.x 33 4 >> tmp.out\n",
        "./10d.x 33 5 >> tmp.out\n",
        "./10d.x 33 6 >> tmp.out\n",
        "./10d.x 33 7 >> tmp.out"
       ]
      },
      {
       "output_type": "stream",
       "stream": "stdout",
       "text": [
        "\n",
        "./10d.x 33 8 >> tmp.out\n",
        "./10d.x 33 9 >> tmp.out\n",
        "./10d.x 34 1 >> tmp.out\n",
        "./10d.x 34 2 >> tmp.out\n",
        "./10d.x 34 3 >> tmp.out"
       ]
      },
      {
       "output_type": "stream",
       "stream": "stdout",
       "text": [
        "\n",
        "./10d.x 34 4 >> tmp.out\n",
        "./10d.x 34 5 >> tmp.out\n",
        "./10d.x 34 6 >> tmp.out\n",
        "./10d.x 34 7 >> tmp.out\n",
        "./10d.x 34 8 >> tmp.out"
       ]
      },
      {
       "output_type": "stream",
       "stream": "stdout",
       "text": [
        "\n",
        "./10d.x 34 9 >> tmp.out\n",
        "./10d.x 35 1 >> tmp.out\n",
        "./10d.x 35 2 >> tmp.out\n",
        "./10d.x 35 3 >> tmp.out\n",
        "./10d.x 35 4 >> tmp.out"
       ]
      },
      {
       "output_type": "stream",
       "stream": "stdout",
       "text": [
        "\n",
        "./10d.x 35 5 >> tmp.out\n",
        "./10d.x 35 6 >> tmp.out\n",
        "./10d.x 35 7 >> tmp.out\n",
        "./10d.x 35 8 >> tmp.out\n",
        "./10d.x 35 9 >> tmp.out\n",
        "./10d.x 36 1 >> tmp.out"
       ]
      },
      {
       "output_type": "stream",
       "stream": "stdout",
       "text": [
        "\n",
        "./10d.x 36 2 >> tmp.out\n",
        "./10d.x 36 3 >> tmp.out\n",
        "./10d.x 36 4 >> tmp.out\n",
        "./10d.x 36 5 >> tmp.out\n",
        "./10d.x 36 6 >> tmp.out"
       ]
      },
      {
       "output_type": "stream",
       "stream": "stdout",
       "text": [
        "\n",
        "./10d.x 36 7 >> tmp.out\n",
        "./10d.x 36 8 >> tmp.out\n",
        "./10d.x 36 9 >> tmp.out\n",
        "./10d.x 37 1 >> tmp.out\n",
        "./10d.x 37 2 >> tmp.out"
       ]
      },
      {
       "output_type": "stream",
       "stream": "stdout",
       "text": [
        "\n",
        "./10d.x 37 3 >> tmp.out\n",
        "./10d.x 37 4 >> tmp.out\n",
        "./10d.x 37 5 >> tmp.out\n",
        "./10d.x 37 6 >> tmp.out\n",
        "./10d.x 37 7 >> tmp.out"
       ]
      },
      {
       "output_type": "stream",
       "stream": "stdout",
       "text": [
        "\n",
        "./10d.x 37 8 >> tmp.out\n",
        "./10d.x 37 9 >> tmp.out\n",
        "./10d.x 38 1 >> tmp.out\n",
        "./10d.x 38 2 >> tmp.out\n",
        "./10d.x 38 3 >> tmp.out"
       ]
      },
      {
       "output_type": "stream",
       "stream": "stdout",
       "text": [
        "\n",
        "./10d.x 38 4 >> tmp.out\n",
        "./10d.x 38 5 >> tmp.out\n",
        "./10d.x 38 6 >> tmp.out\n",
        "./10d.x 38 7 >> tmp.out\n",
        "./10d.x 38 8 >> tmp.out"
       ]
      },
      {
       "output_type": "stream",
       "stream": "stdout",
       "text": [
        "\n",
        "./10d.x 38 9 >> tmp.out\n",
        "./10d.x 39 1 >> tmp.out\n",
        "./10d.x 39 2 >> tmp.out\n",
        "./10d.x 39 3 >> tmp.out\n",
        "./10d.x 39 4 >> tmp.out"
       ]
      },
      {
       "output_type": "stream",
       "stream": "stdout",
       "text": [
        "\n",
        "./10d.x 39 5 >> tmp.out\n",
        "./10d.x 39 6 >> tmp.out\n",
        "./10d.x 39 7 >> tmp.out\n",
        "./10d.x 39 8 >> tmp.out\n",
        "./10d.x 39 9 >> tmp.out"
       ]
      },
      {
       "output_type": "stream",
       "stream": "stdout",
       "text": [
        "\n",
        "./10d.x 40 1 >> tmp.out\n",
        "./10d.x 40 2 >> tmp.out\n",
        "./10d.x 40 3 >> tmp.out\n",
        "./10d.x 40 4 >> tmp.out\n",
        "./10d.x 40 5 >> tmp.out"
       ]
      },
      {
       "output_type": "stream",
       "stream": "stdout",
       "text": [
        "\n",
        "./10d.x 40 6 >> tmp.out\n",
        "./10d.x 40 7 >> tmp.out\n",
        "./10d.x 40 8 >> tmp.out\n",
        "./10d.x 40 9 >> tmp.out\n",
        "./10d.x 41 1 >> tmp.out"
       ]
      },
      {
       "output_type": "stream",
       "stream": "stdout",
       "text": [
        "\n",
        "./10d.x 41 2 >> tmp.out\n",
        "./10d.x 41 3 >> tmp.out\n",
        "./10d.x 41 4 >> tmp.out\n",
        "./10d.x 41 5 >> tmp.out\n",
        "./10d.x 41 6 >> tmp.out"
       ]
      },
      {
       "output_type": "stream",
       "stream": "stdout",
       "text": [
        "\n",
        "./10d.x 41 7 >> tmp.out\n",
        "./10d.x 41 8 >> tmp.out\n",
        "./10d.x 41 9 >> tmp.out\n",
        "./10d.x 42 1 >> tmp.out\n",
        "./10d.x 42 2 >> tmp.out"
       ]
      },
      {
       "output_type": "stream",
       "stream": "stdout",
       "text": [
        "\n",
        "./10d.x 42 3 >> tmp.out\n",
        "./10d.x 42 4 >> tmp.out\n",
        "./10d.x 42 5 >> tmp.out\n",
        "./10d.x 42 6 >> tmp.out\n",
        "./10d.x 42 7 >> tmp.out"
       ]
      },
      {
       "output_type": "stream",
       "stream": "stdout",
       "text": [
        "\n",
        "./10d.x 42 8 >> tmp.out\n",
        "./10d.x 42 9 >> tmp.out\n",
        "./10d.x 43 1 >> tmp.out\n",
        "./10d.x 43 2 >> tmp.out\n",
        "./10d.x 43 3 >> tmp.out"
       ]
      },
      {
       "output_type": "stream",
       "stream": "stdout",
       "text": [
        "\n",
        "./10d.x 43 4 >> tmp.out\n",
        "./10d.x 43 5 >> tmp.out\n",
        "./10d.x 43 6 >> tmp.out\n",
        "./10d.x 43 7 >> tmp.out\n",
        "./10d.x 43 8 >> tmp.out"
       ]
      },
      {
       "output_type": "stream",
       "stream": "stdout",
       "text": [
        "\n",
        "./10d.x 43 9 >> tmp.out\n",
        "./10d.x 44 1 >> tmp.out\n",
        "./10d.x 44 2 >> tmp.out\n",
        "./10d.x 44 3 >> tmp.out\n",
        "./10d.x 44 4 >> tmp.out"
       ]
      },
      {
       "output_type": "stream",
       "stream": "stdout",
       "text": [
        "\n",
        "./10d.x 44 5 >> tmp.out\n",
        "./10d.x 44 6 >> tmp.out\n",
        "./10d.x 44 7 >> tmp.out\n",
        "./10d.x 44 8 >> tmp.out\n",
        "./10d.x 44 9 >> tmp.out"
       ]
      },
      {
       "output_type": "stream",
       "stream": "stdout",
       "text": [
        "\n",
        "./10d.x 45 1 >> tmp.out\n",
        "./10d.x 45 2 >> tmp.out\n",
        "./10d.x 45 3 >> tmp.out\n",
        "./10d.x 45 4 >> tmp.out\n",
        "./10d.x 45 5 >> tmp.out"
       ]
      },
      {
       "output_type": "stream",
       "stream": "stdout",
       "text": [
        "\n",
        "./10d.x 45 6 >> tmp.out\n",
        "./10d.x 45 7 >> tmp.out\n",
        "./10d.x 45 8 >> tmp.out\n",
        "./10d.x 45 9 >> tmp.out\n",
        "./10d.x 46 1 >> tmp.out\n",
        "./10d.x 46 2 >> tmp.out"
       ]
      },
      {
       "output_type": "stream",
       "stream": "stdout",
       "text": [
        "\n",
        "./10d.x 46 3 >> tmp.out\n",
        "./10d.x 46 4 >> tmp.out\n",
        "./10d.x 46 5 >> tmp.out\n",
        "./10d.x 46 6 >> tmp.out\n",
        "./10d.x 46 7 >> tmp.out"
       ]
      },
      {
       "output_type": "stream",
       "stream": "stdout",
       "text": [
        "\n",
        "./10d.x 46 8 >> tmp.out\n",
        "./10d.x 46 9 >> tmp.out\n",
        "./10d.x 47 1 >> tmp.out\n",
        "./10d.x 47 2 >> tmp.out\n",
        "./10d.x 47 3 >> tmp.out"
       ]
      },
      {
       "output_type": "stream",
       "stream": "stdout",
       "text": [
        "\n",
        "./10d.x 47 4 >> tmp.out\n",
        "./10d.x 47 5 >> tmp.out\n",
        "./10d.x 47 6 >> tmp.out\n",
        "./10d.x 47 7 >> tmp.out\n",
        "./10d.x 47 8 >> tmp.out"
       ]
      },
      {
       "output_type": "stream",
       "stream": "stdout",
       "text": [
        "\n",
        "./10d.x 47 9 >> tmp.out\n",
        "./10d.x 48 1 >> tmp.out\n",
        "./10d.x 48 2 >> tmp.out\n",
        "./10d.x 48 3 >> tmp.out\n",
        "./10d.x 48 4 >> tmp.out"
       ]
      },
      {
       "output_type": "stream",
       "stream": "stdout",
       "text": [
        "\n",
        "./10d.x 48 5 >> tmp.out\n",
        "./10d.x 48 6 >> tmp.out\n",
        "./10d.x 48 7 >> tmp.out\n",
        "./10d.x 48 8 >> tmp.out\n",
        "./10d.x 48 9 >> tmp.out"
       ]
      },
      {
       "output_type": "stream",
       "stream": "stdout",
       "text": [
        "\n",
        "./10d.x 49 1 >> tmp.out\n",
        "./10d.x 49 2 >> tmp.out\n",
        "./10d.x 49 3 >> tmp.out\n",
        "./10d.x 49 4 >> tmp.out\n",
        "./10d.x 49 5 >> tmp.out"
       ]
      },
      {
       "output_type": "stream",
       "stream": "stdout",
       "text": [
        "\n",
        "./10d.x 49 6 >> tmp.out\n",
        "./10d.x 49 7 >> tmp.out\n",
        "./10d.x 49 8 >> tmp.out\n",
        "./10d.x 49 9 >> tmp.out\n",
        "./10d.x 50 1 >> tmp.out"
       ]
      },
      {
       "output_type": "stream",
       "stream": "stdout",
       "text": [
        "\n",
        "./10d.x 50 2 >> tmp.out\n",
        "./10d.x 50 3 >> tmp.out\n",
        "./10d.x 50 4 >> tmp.out\n",
        "./10d.x 50 5 >> tmp.out\n",
        "./10d.x 50 6 >> tmp.out"
       ]
      },
      {
       "output_type": "stream",
       "stream": "stdout",
       "text": [
        "\n",
        "./10d.x 50 7 >> tmp.out\n",
        "./10d.x 50 8 >> tmp.out\n",
        "./10d.x 50 9 >> tmp.out\n",
        "./10d.x 51 1 >> tmp.out"
       ]
      },
      {
       "output_type": "stream",
       "stream": "stdout",
       "text": [
        "\n",
        "./10d.x 51 2 >> tmp.out\n",
        "./10d.x 51 3 >> tmp.out\n",
        "./10d.x 51 4 >> tmp.out\n",
        "./10d.x 51 5 >> tmp.out"
       ]
      },
      {
       "output_type": "stream",
       "stream": "stdout",
       "text": [
        "\n",
        "./10d.x 51 6 >> tmp.out\n",
        "./10d.x 51 7 >> tmp.out\n",
        "./10d.x 51 8 >> tmp.out\n",
        "./10d.x 51 9 >> tmp.out"
       ]
      },
      {
       "output_type": "stream",
       "stream": "stdout",
       "text": [
        "\n",
        "./10d.x 52 1 >> tmp.out\n",
        "./10d.x 52 2 >> tmp.out\n",
        "./10d.x 52 3 >> tmp.out\n",
        "./10d.x 52 4 >> tmp.out"
       ]
      },
      {
       "output_type": "stream",
       "stream": "stdout",
       "text": [
        "\n",
        "./10d.x 52 5 >> tmp.out\n",
        "./10d.x 52 6 >> tmp.out\n",
        "./10d.x 52 7 >> tmp.out\n",
        "./10d.x 52 8 >> tmp.out"
       ]
      },
      {
       "output_type": "stream",
       "stream": "stdout",
       "text": [
        "\n",
        "./10d.x 52 9 >> tmp.out\n",
        "./10d.x 53 1 >> tmp.out\n",
        "./10d.x 53 2 >> tmp.out\n",
        "./10d.x 53 3 >> tmp.out"
       ]
      },
      {
       "output_type": "stream",
       "stream": "stdout",
       "text": [
        "\n",
        "./10d.x 53 4 >> tmp.out\n",
        "./10d.x 53 5 >> tmp.out\n",
        "./10d.x 53 6 >> tmp.out\n",
        "./10d.x 53 7 >> tmp.out"
       ]
      },
      {
       "output_type": "stream",
       "stream": "stdout",
       "text": [
        "\n",
        "./10d.x 53 8 >> tmp.out\n",
        "./10d.x 53 9 >> tmp.out\n",
        "./10d.x 54 1 >> tmp.out\n",
        "./10d.x 54 2 >> tmp.out\n",
        "./10d.x 54 3 >> tmp.out"
       ]
      },
      {
       "output_type": "stream",
       "stream": "stdout",
       "text": [
        "\n",
        "./10d.x 54 4 >> tmp.out\n",
        "./10d.x 54 5 >> tmp.out\n",
        "./10d.x 54 6 >> tmp.out\n",
        "./10d.x 54 7 >> tmp.out"
       ]
      },
      {
       "output_type": "stream",
       "stream": "stdout",
       "text": [
        "\n",
        "./10d.x 54 8 >> tmp.out\n",
        "./10d.x 54 9 >> tmp.out\n",
        "./10d.x 55 1 >> tmp.out\n",
        "./10d.x 55 2 >> tmp.out"
       ]
      },
      {
       "output_type": "stream",
       "stream": "stdout",
       "text": [
        "\n",
        "./10d.x 55 3 >> tmp.out\n",
        "./10d.x 55 4 >> tmp.out\n",
        "./10d.x 55 5 >> tmp.out\n",
        "./10d.x 55 6 >> tmp.out\n",
        "./10d.x 55 7 >> tmp.out"
       ]
      },
      {
       "output_type": "stream",
       "stream": "stdout",
       "text": [
        "\n",
        "./10d.x 55 8 >> tmp.out\n",
        "./10d.x 55 9 >> tmp.out\n",
        "./10d.x 56 1 >> tmp.out\n",
        "./10d.x 56 2 >> tmp.out"
       ]
      },
      {
       "output_type": "stream",
       "stream": "stdout",
       "text": [
        "\n",
        "./10d.x 56 3 >> tmp.out\n",
        "./10d.x 56 4 >> tmp.out\n",
        "./10d.x 56 5 >> tmp.out\n",
        "./10d.x 56 6 >> tmp.out"
       ]
      },
      {
       "output_type": "stream",
       "stream": "stdout",
       "text": [
        "\n",
        "./10d.x 56 7 >> tmp.out\n",
        "./10d.x 56 8 >> tmp.out\n",
        "./10d.x 56 9 >> tmp.out\n",
        "./10d.x 57 1 >> tmp.out"
       ]
      },
      {
       "output_type": "stream",
       "stream": "stdout",
       "text": [
        "\n",
        "./10d.x 57 2 >> tmp.out\n",
        "./10d.x 57 3 >> tmp.out\n",
        "./10d.x 57 4 >> tmp.out\n",
        "./10d.x 57 5 >> tmp.out"
       ]
      },
      {
       "output_type": "stream",
       "stream": "stdout",
       "text": [
        "\n",
        "./10d.x 57 6 >> tmp.out\n",
        "./10d.x 57 7 >> tmp.out\n",
        "./10d.x 57 8 >> tmp.out\n",
        "./10d.x 57 9 >> tmp.out\n",
        "./10d.x 58 1 >> tmp.out"
       ]
      },
      {
       "output_type": "stream",
       "stream": "stdout",
       "text": [
        "\n",
        "./10d.x 58 2 >> tmp.out\n",
        "./10d.x 58 3 >> tmp.out\n",
        "./10d.x 58 4 >> tmp.out\n",
        "./10d.x 58 5 >> tmp.out\n",
        "./10d.x 58 6 >> tmp.out"
       ]
      },
      {
       "output_type": "stream",
       "stream": "stdout",
       "text": [
        "\n",
        "./10d.x 58 7 >> tmp.out\n",
        "./10d.x 58 8 >> tmp.out\n",
        "./10d.x 58 9 >> tmp.out\n",
        "./10d.x 59 1 >> tmp.out\n",
        "./10d.x 59 2 >> tmp.out"
       ]
      },
      {
       "output_type": "stream",
       "stream": "stdout",
       "text": [
        "\n",
        "./10d.x 59 3 >> tmp.out\n",
        "./10d.x 59 4 >> tmp.out\n",
        "./10d.x 59 5 >> tmp.out\n",
        "./10d.x 59 6 >> tmp.out\n",
        "./10d.x 59 7 >> tmp.out"
       ]
      },
      {
       "output_type": "stream",
       "stream": "stdout",
       "text": [
        "\n",
        "./10d.x 59 8 >> tmp.out\n",
        "./10d.x 59 9 >> tmp.out\n",
        "./10d.x 60 1 >> tmp.out\n",
        "./10d.x 60 2 >> tmp.out\n",
        "./10d.x 60 3 >> tmp.out"
       ]
      },
      {
       "output_type": "stream",
       "stream": "stdout",
       "text": [
        "\n",
        "./10d.x 60 4 >> tmp.out\n",
        "./10d.x 60 5 >> tmp.out\n",
        "./10d.x 60 6 >> tmp.out\n",
        "./10d.x 60 7 >> tmp.out\n",
        "./10d.x 60 8 >> tmp.out"
       ]
      },
      {
       "output_type": "stream",
       "stream": "stdout",
       "text": [
        "\n",
        "./10d.x 60 9 >> tmp.out\n",
        "./10d.x 61 1 >> tmp.out\n",
        "./10d.x 61 2 >> tmp.out\n",
        "./10d.x 61 3 >> tmp.out\n",
        "./10d.x 61 4 >> tmp.out"
       ]
      },
      {
       "output_type": "stream",
       "stream": "stdout",
       "text": [
        "\n",
        "./10d.x 61 5 >> tmp.out\n",
        "./10d.x 61 6 >> tmp.out\n",
        "./10d.x 61 7 >> tmp.out\n",
        "./10d.x 61 8 >> tmp.out\n",
        "./10d.x 61 9 >> tmp.out"
       ]
      },
      {
       "output_type": "stream",
       "stream": "stdout",
       "text": [
        "\n",
        "./10d.x 62 1 >> tmp.out\n",
        "./10d.x 62 2 >> tmp.out\n",
        "./10d.x 62 3 >> tmp.out\n",
        "./10d.x 62 4 >> tmp.out"
       ]
      },
      {
       "output_type": "stream",
       "stream": "stdout",
       "text": [
        "\n",
        "./10d.x 62 5 >> tmp.out\n",
        "./10d.x 62 6 >> tmp.out\n",
        "./10d.x 62 7 >> tmp.out\n",
        "./10d.x 62 8 >> tmp.out"
       ]
      },
      {
       "output_type": "stream",
       "stream": "stdout",
       "text": [
        "\n",
        "./10d.x 62 9 >> tmp.out\n",
        "./10d.x 63 1 >> tmp.out\n",
        "./10d.x 63 2 >> tmp.out\n",
        "./10d.x 63 3 >> tmp.out"
       ]
      },
      {
       "output_type": "stream",
       "stream": "stdout",
       "text": [
        "\n",
        "./10d.x 63 4 >> tmp.out\n",
        "./10d.x 63 5 >> tmp.out\n",
        "./10d.x 63 6 >> tmp.out\n",
        "./10d.x 63 7 >> tmp.out"
       ]
      },
      {
       "output_type": "stream",
       "stream": "stdout",
       "text": [
        "\n",
        "./10d.x 63 8 >> tmp.out\n",
        "./10d.x 63 9 >> tmp.out\n",
        "./10d.x 64 1 >> tmp.out\n",
        "./10d.x 64 2 >> tmp.out"
       ]
      },
      {
       "output_type": "stream",
       "stream": "stdout",
       "text": [
        "\n",
        "./10d.x 64 3 >> tmp.out\n",
        "./10d.x 64 4 >> tmp.out\n",
        "./10d.x 64 5 >> tmp.out\n",
        "./10d.x 64 6 >> tmp.out"
       ]
      },
      {
       "output_type": "stream",
       "stream": "stdout",
       "text": [
        "\n",
        "./10d.x 64 7 >> tmp.out\n",
        "./10d.x 64 8 >> tmp.out\n",
        "./10d.x 64 9 >> tmp.out\n",
        "./10d.x 65 1 >> tmp.out"
       ]
      },
      {
       "output_type": "stream",
       "stream": "stdout",
       "text": [
        "\n",
        "./10d.x 65 2 >> tmp.out\n",
        "./10d.x 65 3 >> tmp.out\n",
        "./10d.x 65 4 >> tmp.out\n",
        "./10d.x 65 5 >> tmp.out"
       ]
      },
      {
       "output_type": "stream",
       "stream": "stdout",
       "text": [
        "\n",
        "./10d.x 65 6 >> tmp.out\n",
        "./10d.x 65 7 >> tmp.out\n",
        "./10d.x 65 8 >> tmp.out\n",
        "./10d.x 65 9 >> tmp.out"
       ]
      },
      {
       "output_type": "stream",
       "stream": "stdout",
       "text": [
        "\n",
        "./10d.x 66 1 >> tmp.out\n",
        "./10d.x 66 2 >> tmp.out\n",
        "./10d.x 66 3 >> tmp.out\n",
        "./10d.x 66 4 >> tmp.out\n",
        "./10d.x 66 5 >> tmp.out"
       ]
      },
      {
       "output_type": "stream",
       "stream": "stdout",
       "text": [
        "\n",
        "./10d.x 66 6 >> tmp.out\n",
        "./10d.x 66 7 >> tmp.out\n",
        "./10d.x 66 8 >> tmp.out\n",
        "./10d.x 66 9 >> tmp.out\n",
        "./10d.x 67 1 >> tmp.out"
       ]
      },
      {
       "output_type": "stream",
       "stream": "stdout",
       "text": [
        "\n",
        "./10d.x 67 2 >> tmp.out\n",
        "./10d.x 67 3 >> tmp.out\n",
        "./10d.x 67 4 >> tmp.out\n",
        "./10d.x 67 5 >> tmp.out"
       ]
      },
      {
       "output_type": "stream",
       "stream": "stdout",
       "text": [
        "\n",
        "./10d.x 67 6 >> tmp.out\n",
        "./10d.x 67 7 >> tmp.out\n",
        "./10d.x 67 8 >> tmp.out\n",
        "./10d.x 67 9 >> tmp.out"
       ]
      },
      {
       "output_type": "stream",
       "stream": "stdout",
       "text": [
        "\n",
        "./10d.x 68 1 >> tmp.out\n",
        "./10d.x 68 2 >> tmp.out\n",
        "./10d.x 68 3 >> tmp.out\n",
        "./10d.x 68 4 >> tmp.out\n",
        "./10d.x 68 5 >> tmp.out"
       ]
      },
      {
       "output_type": "stream",
       "stream": "stdout",
       "text": [
        "\n",
        "./10d.x 68 6 >> tmp.out\n",
        "./10d.x 68 7 >> tmp.out\n",
        "./10d.x 68 8 >> tmp.out\n",
        "./10d.x 68 9 >> tmp.out"
       ]
      },
      {
       "output_type": "stream",
       "stream": "stdout",
       "text": [
        "\n",
        "./10d.x 69 1 >> tmp.out\n",
        "./10d.x 69 2 >> tmp.out\n",
        "./10d.x 69 3 >> tmp.out\n",
        "./10d.x 69 4 >> tmp.out"
       ]
      },
      {
       "output_type": "stream",
       "stream": "stdout",
       "text": [
        "\n",
        "./10d.x 69 5 >> tmp.out\n",
        "./10d.x 69 6 >> tmp.out\n",
        "./10d.x 69 7 >> tmp.out\n",
        "./10d.x 69 8 >> tmp.out"
       ]
      },
      {
       "output_type": "stream",
       "stream": "stdout",
       "text": [
        "\n",
        "./10d.x 69 9 >> tmp.out\n",
        "./10d.x 70 1 >> tmp.out\n",
        "./10d.x 70 2 >> tmp.out\n",
        "./10d.x 70 3 >> tmp.out"
       ]
      },
      {
       "output_type": "stream",
       "stream": "stdout",
       "text": [
        "\n",
        "./10d.x 70 4 >> tmp.out\n",
        "./10d.x 70 5 >> tmp.out\n",
        "./10d.x 70 6 >> tmp.out\n",
        "./10d.x 70 7 >> tmp.out\n",
        "./10d.x 70 8 >> tmp.out"
       ]
      },
      {
       "output_type": "stream",
       "stream": "stdout",
       "text": [
        "\n",
        "./10d.x 70 9 >> tmp.out\n",
        "./10d.x 71 1 >> tmp.out\n",
        "./10d.x 71 2 >> tmp.out\n",
        "./10d.x 71 3 >> tmp.out\n",
        "./10d.x 71 4 >> tmp.out"
       ]
      },
      {
       "output_type": "stream",
       "stream": "stdout",
       "text": [
        "\n",
        "./10d.x 71 5 >> tmp.out\n",
        "./10d.x 71 6 >> tmp.out\n",
        "./10d.x 71 7 >> tmp.out\n",
        "./10d.x 71 8 >> tmp.out"
       ]
      },
      {
       "output_type": "stream",
       "stream": "stdout",
       "text": [
        "\n",
        "./10d.x 71 9 >> tmp.out\n",
        "./10d.x 72 1 >> tmp.out\n",
        "./10d.x 72 2 >> tmp.out\n",
        "./10d.x 72 3 >> tmp.out"
       ]
      },
      {
       "output_type": "stream",
       "stream": "stdout",
       "text": [
        "\n",
        "./10d.x 72 4 >> tmp.out\n",
        "./10d.x 72 5 >> tmp.out\n",
        "./10d.x 72 6 >> tmp.out\n",
        "./10d.x 72 7 >> tmp.out"
       ]
      },
      {
       "output_type": "stream",
       "stream": "stdout",
       "text": [
        "\n",
        "./10d.x 72 8 >> tmp.out\n",
        "./10d.x 72 9 >> tmp.out\n",
        "./10d.x 73 1 >> tmp.out\n",
        "./10d.x 73 2 >> tmp.out"
       ]
      },
      {
       "output_type": "stream",
       "stream": "stdout",
       "text": [
        "\n",
        "./10d.x 73 3 >> tmp.out\n",
        "./10d.x 73 4 >> tmp.out\n",
        "./10d.x 73 5 >> tmp.out\n",
        "./10d.x 73 6 >> tmp.out"
       ]
      },
      {
       "output_type": "stream",
       "stream": "stdout",
       "text": [
        "\n",
        "./10d.x 73 7 >> tmp.out\n",
        "./10d.x 73 8 >> tmp.out\n",
        "./10d.x 73 9 >> tmp.out\n",
        "./10d.x 74 1 >> tmp.out"
       ]
      },
      {
       "output_type": "stream",
       "stream": "stdout",
       "text": [
        "\n",
        "./10d.x 74 2 >> tmp.out\n",
        "./10d.x 74 3 >> tmp.out\n",
        "./10d.x 74 4 >> tmp.out\n",
        "./10d.x 74 5 >> tmp.out"
       ]
      },
      {
       "output_type": "stream",
       "stream": "stdout",
       "text": [
        "\n",
        "./10d.x 74 6 >> tmp.out\n",
        "./10d.x 74 7 >> tmp.out\n",
        "./10d.x 74 8 >> tmp.out\n",
        "./10d.x 74 9 >> tmp.out"
       ]
      },
      {
       "output_type": "stream",
       "stream": "stdout",
       "text": [
        "\n",
        "./10d.x 75 1 >> tmp.out\n",
        "./10d.x 75 2 >> tmp.out\n",
        "./10d.x 75 3 >> tmp.out\n",
        "./10d.x 75 4 >> tmp.out"
       ]
      },
      {
       "output_type": "stream",
       "stream": "stdout",
       "text": [
        "\n",
        "./10d.x 75 5 >> tmp.out\n",
        "./10d.x 75 6 >> tmp.out\n",
        "./10d.x 75 7 >> tmp.out\n",
        "./10d.x 75 8 >> tmp.out"
       ]
      },
      {
       "output_type": "stream",
       "stream": "stdout",
       "text": [
        "\n",
        "./10d.x 75 9 >> tmp.out\n",
        "./10d.x 76 1 >> tmp.out\n",
        "./10d.x 76 2 >> tmp.out\n",
        "./10d.x 76 3 >> tmp.out"
       ]
      },
      {
       "output_type": "stream",
       "stream": "stdout",
       "text": [
        "\n",
        "./10d.x 76 4 >> tmp.out\n",
        "./10d.x 76 5 >> tmp.out\n",
        "./10d.x 76 6 >> tmp.out\n",
        "./10d.x 76 7 >> tmp.out"
       ]
      },
      {
       "output_type": "stream",
       "stream": "stdout",
       "text": [
        "\n",
        "./10d.x 76 8 >> tmp.out\n",
        "./10d.x 76 9 >> tmp.out\n",
        "./10d.x 77 1 >> tmp.out\n",
        "./10d.x 77 2 >> tmp.out"
       ]
      },
      {
       "output_type": "stream",
       "stream": "stdout",
       "text": [
        "\n",
        "./10d.x 77 3 >> tmp.out\n",
        "./10d.x 77 4 >> tmp.out\n",
        "./10d.x 77 5 >> tmp.out\n",
        "./10d.x 77 6 >> tmp.out"
       ]
      },
      {
       "output_type": "stream",
       "stream": "stdout",
       "text": [
        "\n",
        "./10d.x 77 7 >> tmp.out\n",
        "./10d.x 77 8 >> tmp.out\n",
        "./10d.x 77 9 >> tmp.out\n",
        "./10d.x 78 1 >> tmp.out"
       ]
      },
      {
       "output_type": "stream",
       "stream": "stdout",
       "text": [
        "\n",
        "./10d.x 78 2 >> tmp.out\n",
        "./10d.x 78 3 >> tmp.out\n",
        "./10d.x 78 4 >> tmp.out\n",
        "./10d.x 78 5 >> tmp.out"
       ]
      },
      {
       "output_type": "stream",
       "stream": "stdout",
       "text": [
        "\n",
        "./10d.x 78 6 >> tmp.out\n",
        "./10d.x 78 7 >> tmp.out\n",
        "./10d.x 78 8 >> tmp.out\n",
        "./10d.x 78 9 >> tmp.out"
       ]
      },
      {
       "output_type": "stream",
       "stream": "stdout",
       "text": [
        "\n",
        "./10d.x 79 1 >> tmp.out\n",
        "./10d.x 79 2 >> tmp.out\n",
        "./10d.x 79 3 >> tmp.out\n",
        "./10d.x 79 4 >> tmp.out"
       ]
      },
      {
       "output_type": "stream",
       "stream": "stdout",
       "text": [
        "\n",
        "./10d.x 79 5 >> tmp.out\n",
        "./10d.x 79 6 >> tmp.out\n",
        "./10d.x 79 7 >> tmp.out\n",
        "./10d.x 79 8 >> tmp.out"
       ]
      },
      {
       "output_type": "stream",
       "stream": "stdout",
       "text": [
        "\n",
        "./10d.x 79 9 >> tmp.out\n",
        "./10d.x 80 1 >> tmp.out\n",
        "./10d.x 80 2 >> tmp.out\n",
        "./10d.x 80 3 >> tmp.out"
       ]
      },
      {
       "output_type": "stream",
       "stream": "stdout",
       "text": [
        "\n",
        "./10d.x 80 4 >> tmp.out\n",
        "./10d.x 80 5 >> tmp.out\n",
        "./10d.x 80 6 >> tmp.out\n",
        "./10d.x 80 7 >> tmp.out"
       ]
      },
      {
       "output_type": "stream",
       "stream": "stdout",
       "text": [
        "\n",
        "./10d.x 80 8 >> tmp.out\n",
        "./10d.x 80 9 >> tmp.out\n",
        "./10d.x 81 1 >> tmp.out\n",
        "./10d.x 81 2 >> tmp.out"
       ]
      },
      {
       "output_type": "stream",
       "stream": "stdout",
       "text": [
        "\n",
        "./10d.x 81 3 >> tmp.out\n",
        "./10d.x 81 4 >> tmp.out\n",
        "./10d.x 81 5 >> tmp.out\n",
        "./10d.x 81 6 >> tmp.out"
       ]
      },
      {
       "output_type": "stream",
       "stream": "stdout",
       "text": [
        "\n",
        "./10d.x 81 7 >> tmp.out\n",
        "./10d.x 81 8 >> tmp.out\n",
        "./10d.x 81 9 >> tmp.out\n",
        "./10d.x 82 1 >> tmp.out"
       ]
      },
      {
       "output_type": "stream",
       "stream": "stdout",
       "text": [
        "\n",
        "./10d.x 82 2 >> tmp.out\n",
        "./10d.x 82 3 >> tmp.out\n",
        "./10d.x 82 4 >> tmp.out\n",
        "./10d.x 82 5 >> tmp.out"
       ]
      },
      {
       "output_type": "stream",
       "stream": "stdout",
       "text": [
        "\n",
        "./10d.x 82 6 >> tmp.out\n",
        "./10d.x 82 7 >> tmp.out\n",
        "./10d.x 82 8 >> tmp.out\n",
        "./10d.x 82 9 >> tmp.out"
       ]
      },
      {
       "output_type": "stream",
       "stream": "stdout",
       "text": [
        "\n",
        "./10d.x 83 1 >> tmp.out\n",
        "./10d.x 83 2 >> tmp.out\n",
        "./10d.x 83 3 >> tmp.out\n",
        "./10d.x 83 4 >> tmp.out"
       ]
      },
      {
       "output_type": "stream",
       "stream": "stdout",
       "text": [
        "\n",
        "./10d.x 83 5 >> tmp.out\n",
        "./10d.x 83 6 >> tmp.out\n",
        "./10d.x 83 7 >> tmp.out\n",
        "./10d.x 83 8 >> tmp.out"
       ]
      },
      {
       "output_type": "stream",
       "stream": "stdout",
       "text": [
        "\n",
        "./10d.x 83 9 >> tmp.out\n",
        "./10d.x 84 1 >> tmp.out\n",
        "./10d.x 84 2 >> tmp.out\n",
        "./10d.x 84 3 >> tmp.out"
       ]
      },
      {
       "output_type": "stream",
       "stream": "stdout",
       "text": [
        "\n",
        "./10d.x 84 4 >> tmp.out\n",
        "./10d.x 84 5 >> tmp.out\n",
        "./10d.x 84 6 >> tmp.out\n",
        "./10d.x 84 7 >> tmp.out"
       ]
      },
      {
       "output_type": "stream",
       "stream": "stdout",
       "text": [
        "\n",
        "./10d.x 84 8 >> tmp.out\n",
        "./10d.x 84 9 >> tmp.out\n",
        "./10d.x 85 1 >> tmp.out\n",
        "./10d.x 85 2 >> tmp.out"
       ]
      },
      {
       "output_type": "stream",
       "stream": "stdout",
       "text": [
        "\n",
        "./10d.x 85 3 >> tmp.out\n",
        "./10d.x 85 4 >> tmp.out\n",
        "./10d.x 85 5 >> tmp.out\n",
        "./10d.x 85 6 >> tmp.out\n",
        "./10d.x 85 7 >> tmp.out"
       ]
      },
      {
       "output_type": "stream",
       "stream": "stdout",
       "text": [
        "\n",
        "./10d.x 85 8 >> tmp.out\n",
        "./10d.x 85 9 >> tmp.out\n",
        "./10d.x 86 1 >> tmp.out\n",
        "./10d.x 86 2 >> tmp.out"
       ]
      },
      {
       "output_type": "stream",
       "stream": "stdout",
       "text": [
        "\n",
        "./10d.x 86 3 >> tmp.out\n",
        "./10d.x 86 4 >> tmp.out\n",
        "./10d.x 86 5 >> tmp.out\n",
        "./10d.x 86 6 >> tmp.out"
       ]
      },
      {
       "output_type": "stream",
       "stream": "stdout",
       "text": [
        "\n",
        "./10d.x 86 7 >> tmp.out\n",
        "./10d.x 86 8 >> tmp.out\n",
        "./10d.x 86 9 >> tmp.out\n",
        "./10d.x 87 1 >> tmp.out"
       ]
      },
      {
       "output_type": "stream",
       "stream": "stdout",
       "text": [
        "\n",
        "./10d.x 87 2 >> tmp.out\n",
        "./10d.x 87 3 >> tmp.out\n",
        "./10d.x 87 4 >> tmp.out\n",
        "./10d.x 87 5 >> tmp.out"
       ]
      },
      {
       "output_type": "stream",
       "stream": "stdout",
       "text": [
        "\n",
        "./10d.x 87 6 >> tmp.out\n",
        "./10d.x 87 7 >> tmp.out\n",
        "./10d.x 87 8 >> tmp.out\n",
        "./10d.x 87 9 >> tmp.out"
       ]
      },
      {
       "output_type": "stream",
       "stream": "stdout",
       "text": [
        "\n",
        "./10d.x 88 1 >> tmp.out\n",
        "./10d.x 88 2 >> tmp.out\n",
        "./10d.x 88 3 >> tmp.out\n",
        "./10d.x 88 4 >> tmp.out"
       ]
      },
      {
       "output_type": "stream",
       "stream": "stdout",
       "text": [
        "\n",
        "./10d.x 88 5 >> tmp.out\n",
        "./10d.x 88 6 >> tmp.out\n",
        "./10d.x 88 7 >> tmp.out\n",
        "./10d.x 88 8 >> tmp.out"
       ]
      },
      {
       "output_type": "stream",
       "stream": "stdout",
       "text": [
        "\n",
        "./10d.x 88 9 >> tmp.out\n",
        "./10d.x 89 1 >> tmp.out\n",
        "./10d.x 89 2 >> tmp.out\n",
        "./10d.x 89 3 >> tmp.out"
       ]
      },
      {
       "output_type": "stream",
       "stream": "stdout",
       "text": [
        "\n",
        "./10d.x 89 4 >> tmp.out\n",
        "./10d.x 89 5 >> tmp.out\n",
        "./10d.x 89 6 >> tmp.out\n",
        "./10d.x 89 7 >> tmp.out"
       ]
      },
      {
       "output_type": "stream",
       "stream": "stdout",
       "text": [
        "\n",
        "./10d.x 89 8 >> tmp.out\n",
        "./10d.x 89 9 >> tmp.out\n",
        "./10d.x 90 1 >> tmp.out\n",
        "./10d.x 90 2 >> tmp.out"
       ]
      },
      {
       "output_type": "stream",
       "stream": "stdout",
       "text": [
        "\n",
        "./10d.x 90 3 >> tmp.out\n",
        "./10d.x 90 4 >> tmp.out\n",
        "./10d.x 90 5 >> tmp.out\n",
        "./10d.x 90 6 >> tmp.out"
       ]
      },
      {
       "output_type": "stream",
       "stream": "stdout",
       "text": [
        "\n",
        "./10d.x 90 7 >> tmp.out\n",
        "./10d.x 90 8 >> tmp.out\n",
        "./10d.x 90 9 >> tmp.out\n",
        "./10d.x 91 1 >> tmp.out"
       ]
      },
      {
       "output_type": "stream",
       "stream": "stdout",
       "text": [
        "\n",
        "./10d.x 91 2 >> tmp.out\n",
        "./10d.x 91 3 >> tmp.out\n",
        "./10d.x 91 4 >> tmp.out\n",
        "./10d.x 91 5 >> tmp.out"
       ]
      },
      {
       "output_type": "stream",
       "stream": "stdout",
       "text": [
        "\n",
        "./10d.x 91 6 >> tmp.out\n",
        "./10d.x 91 7 >> tmp.out\n",
        "./10d.x 91 8 >> tmp.out\n",
        "./10d.x 91 9 >> tmp.out"
       ]
      },
      {
       "output_type": "stream",
       "stream": "stdout",
       "text": [
        "\n",
        "./10d.x 92 1 >> tmp.out\n",
        "./10d.x 92 2 >> tmp.out\n",
        "./10d.x 92 3 >> tmp.out\n",
        "./10d.x 92 4 >> tmp.out"
       ]
      },
      {
       "output_type": "stream",
       "stream": "stdout",
       "text": [
        "\n",
        "./10d.x 92 5 >> tmp.out\n",
        "./10d.x 92 6 >> tmp.out\n",
        "./10d.x 92 7 >> tmp.out\n",
        "./10d.x 92 8 >> tmp.out"
       ]
      },
      {
       "output_type": "stream",
       "stream": "stdout",
       "text": [
        "\n",
        "./10d.x 92 9 >> tmp.out\n",
        "./10d.x 93 1 >> tmp.out\n",
        "./10d.x 93 2 >> tmp.out\n",
        "./10d.x 93 3 >> tmp.out"
       ]
      },
      {
       "output_type": "stream",
       "stream": "stdout",
       "text": [
        "\n",
        "./10d.x 93 4 >> tmp.out\n",
        "./10d.x 93 5 >> tmp.out\n",
        "./10d.x 93 6 >> tmp.out\n",
        "./10d.x 93 7 >> tmp.out"
       ]
      },
      {
       "output_type": "stream",
       "stream": "stdout",
       "text": [
        "\n",
        "./10d.x 93 8 >> tmp.out\n",
        "./10d.x 93 9 >> tmp.out\n",
        "./10d.x 94 1 >> tmp.out\n",
        "./10d.x 94 2 >> tmp.out"
       ]
      },
      {
       "output_type": "stream",
       "stream": "stdout",
       "text": [
        "\n",
        "./10d.x 94 3 >> tmp.out\n",
        "./10d.x 94 4 >> tmp.out\n",
        "./10d.x 94 5 >> tmp.out\n",
        "./10d.x 94 6 >> tmp.out"
       ]
      },
      {
       "output_type": "stream",
       "stream": "stdout",
       "text": [
        "\n",
        "./10d.x 94 7 >> tmp.out\n",
        "./10d.x 94 8 >> tmp.out\n",
        "./10d.x 94 9 >> tmp.out\n",
        "./10d.x 95 1 >> tmp.out"
       ]
      },
      {
       "output_type": "stream",
       "stream": "stdout",
       "text": [
        "\n",
        "./10d.x 95 2 >> tmp.out\n",
        "./10d.x 95 3 >> tmp.out\n",
        "./10d.x 95 4 >> tmp.out\n",
        "./10d.x 95 5 >> tmp.out"
       ]
      },
      {
       "output_type": "stream",
       "stream": "stdout",
       "text": [
        "\n",
        "./10d.x 95 6 >> tmp.out\n",
        "./10d.x 95 7 >> tmp.out\n",
        "./10d.x 95 8 >> tmp.out\n",
        "./10d.x 95 9 >> tmp.out"
       ]
      },
      {
       "output_type": "stream",
       "stream": "stdout",
       "text": [
        "\n",
        "./10d.x 96 1 >> tmp.out\n",
        "./10d.x 96 2 >> tmp.out\n",
        "./10d.x 96 3 >> tmp.out\n",
        "./10d.x 96 4 >> tmp.out"
       ]
      },
      {
       "output_type": "stream",
       "stream": "stdout",
       "text": [
        "\n",
        "./10d.x 96 5 >> tmp.out\n",
        "./10d.x 96 6 >> tmp.out\n",
        "./10d.x 96 7 >> tmp.out\n",
        "./10d.x 96 8 >> tmp.out"
       ]
      },
      {
       "output_type": "stream",
       "stream": "stdout",
       "text": [
        "\n",
        "./10d.x 96 9 >> tmp.out\n",
        "./10d.x 97 1 >> tmp.out\n",
        "./10d.x 97 2 >> tmp.out\n",
        "./10d.x 97 3 >> tmp.out"
       ]
      },
      {
       "output_type": "stream",
       "stream": "stdout",
       "text": [
        "\n",
        "./10d.x 97 4 >> tmp.out\n",
        "./10d.x 97 5 >> tmp.out\n",
        "./10d.x 97 6 >> tmp.out\n",
        "./10d.x 97 7 >> tmp.out\n",
        "./10d.x 97 8 >> tmp.out"
       ]
      },
      {
       "output_type": "stream",
       "stream": "stdout",
       "text": [
        "\n",
        "./10d.x 97 9 >> tmp.out\n",
        "./10d.x 98 1 >> tmp.out\n",
        "./10d.x 98 2 >> tmp.out\n",
        "./10d.x 98 3 >> tmp.out"
       ]
      },
      {
       "output_type": "stream",
       "stream": "stdout",
       "text": [
        "\n",
        "./10d.x 98 4 >> tmp.out\n",
        "./10d.x 98 5 >> tmp.out\n",
        "./10d.x 98 6 >> tmp.out\n",
        "./10d.x 98 7 >> tmp.out"
       ]
      },
      {
       "output_type": "stream",
       "stream": "stdout",
       "text": [
        "\n",
        "./10d.x 98 8 >> tmp.out\n",
        "./10d.x 98 9 >> tmp.out\n",
        "./10d.x 99 1 >> tmp.out\n",
        "./10d.x 99 2 >> tmp.out"
       ]
      },
      {
       "output_type": "stream",
       "stream": "stdout",
       "text": [
        "\n",
        "./10d.x 99 3 >> tmp.out\n",
        "./10d.x 99 4 >> tmp.out\n",
        "./10d.x 99 5 >> tmp.out\n",
        "./10d.x 99 6 >> tmp.out"
       ]
      },
      {
       "output_type": "stream",
       "stream": "stdout",
       "text": [
        "\n",
        "./10d.x 99 7 >> tmp.out\n",
        "./10d.x 99 8 >> tmp.out\n",
        "./10d.x 99 9 >> tmp.out\n"
       ]
      }
     ],
     "prompt_number": 91
    },
    {
     "cell_type": "code",
     "collapsed": false,
     "input": [
      "!cat tmp.out"
     ],
     "language": "python",
     "metadata": {},
     "outputs": [
      {
       "output_type": "stream",
       "stream": "stdout",
       "text": [
        "20.511627 \r\n",
        "37.544094 \r\n",
        "22.331974 \r\n",
        "28.345182 \r\n",
        "24.229698 \r\n",
        "20.436857 \r\n",
        "9.728544 \r\n",
        "22.253948 \r\n",
        "18.625757 \r\n",
        "18.151758 \r\n",
        "35.388718 \r\n",
        "21.543516 \r\n",
        "19.772814 \r\n",
        "25.312534 \r\n",
        "17.935289 \r\n",
        "16.001171 \r\n",
        "32.319939 \r\n",
        "18.563826 \r\n",
        "22.049265 \r\n",
        "33.061638 \r\n",
        "27.162210 \r\n",
        "21.728609 \r\n",
        "28.598595 \r\n",
        "19.628429 \r\n",
        "17.919157 \r\n",
        "28.390291 \r\n",
        "16.224661 \r\n",
        "22.069954 \r\n",
        "27.673132 \r\n",
        "26.823528 \r\n",
        "19.845774 \r\n",
        "28.890238 \r\n",
        "21.335388 \r\n",
        "19.274939 \r\n",
        "26.398520 \r\n",
        "18.946770 \r\n",
        "24.692932 \r\n",
        "26.894962 \r\n",
        "26.108648 \r\n",
        "22.527729 \r\n",
        "27.552383 \r\n",
        "21.405502 \r\n",
        "19.655346 \r\n",
        "25.253626 \r\n",
        "17.596088 \r\n",
        "25.244047 \r\n",
        "27.249474 \r\n",
        "25.106688 \r\n",
        "20.907623 \r\n",
        "28.326872 \r\n",
        "23.387098 \r\n",
        "18.870361 \r\n",
        "25.147728 \r\n",
        "18.926325 \r\n",
        "25.173929 \r\n",
        "25.794781 \r\n",
        "24.145613 \r\n",
        "22.153154 \r\n",
        "28.758455 \r\n",
        "23.275869 \r\n",
        "18.359455 \r\n",
        "26.812984 \r\n",
        "21.754080 \r\n",
        "25.257669 \r\n",
        "24.526049 \r\n",
        "24.039957 \r\n",
        "20.294401 \r\n",
        "26.757124 \r\n",
        "22.832901 \r\n",
        "19.594036 \r\n",
        "24.729742 \r\n",
        "22.231634 \r\n",
        "26.498510 \r\n",
        "23.934599 \r\n",
        "23.853586 \r\n",
        "19.885176 \r\n",
        "25.957272 \r\n",
        "25.387383 \r\n",
        "19.299376 \r\n",
        "24.195015 \r\n",
        "23.511690 \r\n",
        "27.470743 \r\n",
        "22.573923 \r\n",
        "25.575771 \r\n",
        "20.016645 \r\n",
        "26.725138 \r\n",
        "25.343616 \r\n",
        "19.125288 \r\n",
        "23.698866 \r\n",
        "23.259007 \r\n",
        "29.072088 \r\n",
        "23.722015 \r\n",
        "24.817772 \r\n",
        "20.818947 \r\n",
        "26.210112 \r\n",
        "24.357725 \r\n",
        "19.683382 \r\n",
        "24.045330 \r\n",
        "22.955820 \r\n",
        "28.445444 \r\n",
        "24.372849 \r\n",
        "24.503939 \r\n",
        "20.817678 \r\n",
        "26.578028 \r\n",
        "25.856209 \r\n",
        "19.715464 \r\n",
        "24.519173 \r\n",
        "23.495878 \r\n",
        "28.736488 \r\n",
        "25.823427 \r\n",
        "25.841982 \r\n",
        "20.685865 \r\n",
        "26.668926 \r\n",
        "25.202742 \r\n",
        "20.171974 \r\n",
        "24.527433 \r\n",
        "22.834887 \r\n",
        "28.456329 \r\n",
        "26.063320 \r\n",
        "24.565229 \r\n",
        "20.494419 \r\n",
        "26.317739 \r\n",
        "25.249182 \r\n",
        "19.608725 \r\n",
        "24.508615 \r\n",
        "24.080812 \r\n",
        "27.864044 \r\n",
        "25.165768 \r\n",
        "25.898167 \r\n",
        "21.371485 \r\n",
        "26.904799 \r\n",
        "24.660561 \r\n",
        "20.845795 \r\n",
        "25.523552 \r\n",
        "24.440367 \r\n",
        "27.538507 \r\n",
        "25.815098 \r\n",
        "25.364170 \r\n",
        "21.228706 \r\n",
        "26.020657 \r\n",
        "24.009911 \r\n",
        "20.531948 \r\n",
        "25.020880 \r\n",
        "23.628576 \r\n",
        "27.084911 \r\n",
        "25.703791 \r\n",
        "25.542904 \r\n",
        "22.674200 \r\n",
        "25.530661 \r\n",
        "24.471601 \r\n",
        "21.500582 \r\n",
        "24.278311 \r\n",
        "24.327662 \r\n",
        "26.933022 \r\n",
        "25.917044 \r\n",
        "25.477365 \r\n",
        "21.744339 \r\n",
        "24.973471 \r\n",
        "24.206175 \r\n",
        "22.265255 \r\n",
        "25.232914 \r\n",
        "24.331694 \r\n",
        "27.299749 \r\n",
        "25.637323 \r\n",
        "25.089581 \r\n",
        "21.430279 \r\n",
        "25.362236 \r\n",
        "25.091406 \r\n",
        "22.473997 \r\n",
        "25.136869 \r\n",
        "23.716133 \r\n",
        "27.009592 \r\n",
        "25.614994 \r\n",
        "24.803822 \r\n",
        "22.660059 \r\n",
        "24.962252 \r\n",
        "25.376648 \r\n",
        "22.566547 \r\n",
        "24.810833 \r\n",
        "24.153254 \r\n",
        "26.735983 \r\n",
        "26.159357 \r\n",
        "25.673107 \r\n",
        "22.357168 \r\n",
        "24.743254 \r\n",
        "25.352957 \r\n",
        "22.063091 \r\n",
        "25.921915 \r\n",
        "23.930830 \r\n",
        "27.736311 \r\n",
        "26.035389 \r\n",
        "25.510113 \r\n",
        "22.285576 \r\n",
        "24.952757 \r\n",
        "25.466223 \r\n",
        "22.259176 \r\n",
        "26.377222 \r\n",
        "23.914000 \r\n",
        "27.596115 \r\n",
        "26.587070 \r\n",
        "24.932005 \r\n",
        "22.304539 \r\n",
        "24.577019 \r\n",
        "26.090454 \r\n",
        "22.204409 \r\n",
        "26.254984 \r\n",
        "23.614565 \r\n",
        "27.379835 \r\n",
        "26.408041 \r\n",
        "24.817152 \r\n",
        "22.727472 \r\n",
        "24.899492 \r\n",
        "26.344109 \r\n",
        "22.614235 \r\n",
        "26.061281 \r\n",
        "23.526175 \r\n",
        "26.974159 \r\n",
        "27.178301 \r\n",
        "24.975044 \r\n",
        "23.243507 \r\n",
        "25.146580 \r\n",
        "26.818209 \r\n",
        "22.283030 \r\n",
        "25.478985 \r\n",
        "23.224304 \r\n",
        "26.970926 \r\n",
        "26.945726 \r\n",
        "24.979164 \r\n",
        "23.479191 \r\n",
        "24.743843 \r\n",
        "27.285379 \r\n",
        "22.655296 \r\n",
        "25.913715 \r\n",
        "23.484447 \r\n",
        "27.985498 \r\n",
        "27.307146 \r\n",
        "25.738291 \r\n",
        "23.701115 \r\n",
        "24.454226 \r\n",
        "27.127811 \r\n",
        "22.560966 \r\n",
        "25.943680 \r\n",
        "23.884138 \r\n",
        "27.564959 \r\n",
        "27.501965 \r\n",
        "25.868771 \r\n",
        "24.191874 \r\n",
        "24.409424 \r\n",
        "26.886751 \r\n",
        "22.725327 \r\n",
        "25.877918 \r\n",
        "24.153942 \r\n",
        "27.143755 \r\n",
        "27.542557 \r\n",
        "25.768799 \r\n",
        "24.300886 \r\n",
        "24.031509 \r\n",
        "27.244738 \r\n",
        "22.653114 \r\n",
        "26.218500 \r\n",
        "23.723640 \r\n",
        "27.152779 \r\n",
        "27.184092 \r\n",
        "26.093452 \r\n",
        "24.265400 \r\n",
        "24.718721 \r\n",
        "27.024666 \r\n",
        "22.284458 \r\n",
        "26.269056 \r\n",
        "23.258984 \r\n",
        "26.722288 \r\n",
        "27.066015 \r\n",
        "26.053156 \r\n",
        "24.690325 \r\n",
        "24.811453 \r\n",
        "27.089100 \r\n",
        "21.965633 \r\n",
        "25.852783 \r\n",
        "23.995937 \r\n",
        "26.538769 \r\n",
        "27.347622 \r\n",
        "25.856920 \r\n",
        "25.400988 \r\n",
        "24.922993 \r\n",
        "26.686169 \r\n",
        "22.126799 \r\n",
        "25.720085 \r\n",
        "24.055241 \r\n",
        "26.542271 \r\n",
        "27.330191 \r\n",
        "25.888248 \r\n",
        "25.449726 \r\n",
        "24.989817 \r\n",
        "27.049833 \r\n",
        "21.998835 \r\n",
        "26.121651 \r\n",
        "23.874714 \r\n",
        "26.484547 \r\n",
        "27.752567 \r\n",
        "26.170151 \r\n",
        "25.284935 \r\n",
        "24.976662 \r\n",
        "27.128849 \r\n",
        "21.811213 \r\n",
        "25.936115 \r\n",
        "24.213871 \r\n",
        "26.460388 \r\n",
        "28.099874 \r\n",
        "26.019434 \r\n",
        "26.311918 \r\n",
        "24.999998 \r\n",
        "26.671047 \r\n",
        "21.379154 \r\n",
        "25.864429 \r\n",
        "24.583084 \r\n",
        "26.379940 \r\n",
        "28.252163 \r\n",
        "25.684330 \r\n",
        "25.956484 \r\n",
        "25.182014 \r\n",
        "26.788240 \r\n",
        "21.958393 \r\n",
        "25.693401 \r\n",
        "24.217569 \r\n",
        "26.968281 \r\n",
        "28.076204 \r\n",
        "25.774384 \r\n",
        "25.960844 \r\n",
        "24.898796 \r\n",
        "26.625809 \r\n",
        "22.431574 \r\n",
        "25.973932 \r\n",
        "23.939056 \r\n",
        "26.504957 \r\n",
        "28.149565 \r\n",
        "25.528036 \r\n",
        "26.087414 \r\n",
        "25.548895 \r\n",
        "26.467230 \r\n",
        "22.269615 \r\n",
        "25.830500 \r\n",
        "23.550062 \r\n",
        "26.223692 \r\n",
        "28.275034 \r\n",
        "25.197533 \r\n",
        "25.906338 \r\n",
        "25.869473 \r\n",
        "26.423302 \r\n",
        "22.284971 \r\n",
        "25.708120 \r\n",
        "23.441637 \r\n",
        "26.016209 \r\n",
        "27.793247 \r\n",
        "25.399185 \r\n",
        "25.772684 \r\n",
        "25.925304 \r\n",
        "26.683262 \r\n",
        "22.312267 \r\n",
        "25.594839 \r\n",
        "23.869610 \r\n",
        "26.483330 \r\n",
        "27.602348 \r\n",
        "25.443275 \r\n",
        "25.745010 \r\n",
        "26.088572 \r\n",
        "26.759289 \r\n",
        "22.018858 \r\n",
        "25.351950 \r\n",
        "23.621674 \r\n",
        "26.040573 \r\n",
        "27.668318 \r\n",
        "25.260263 \r\n",
        "25.707571 \r\n",
        "26.510620 \r\n",
        "26.796524 \r\n",
        "21.880260 \r\n",
        "25.825882 \r\n",
        "23.526520 \r\n",
        "26.021578 \r\n",
        "27.828579 \r\n",
        "25.194248 \r\n",
        "25.836826 \r\n",
        "26.584337 \r\n",
        "26.604225 \r\n",
        "21.990808 \r\n",
        "25.810682 \r\n",
        "23.531767 \r\n",
        "25.974762 \r\n",
        "27.519478 \r\n",
        "25.346901 \r\n",
        "25.943626 \r\n",
        "26.243322 \r\n",
        "26.633150 \r\n",
        "22.095398 \r\n",
        "25.593880 \r\n",
        "23.189507 \r\n",
        "26.176424 \r\n",
        "27.241550 \r\n",
        "25.301836 \r\n",
        "26.110365 \r\n",
        "26.391716 \r\n",
        "26.530531 \r\n",
        "22.084146 \r\n",
        "25.313250 \r\n",
        "23.135275 \r\n",
        "26.010029 \r\n",
        "27.042112 \r\n",
        "25.339037 \r\n",
        "26.118040 \r\n",
        "26.381443 \r\n",
        "26.505535 \r\n",
        "22.144226 \r\n",
        "25.291672 \r\n",
        "23.383553 \r\n",
        "25.846991 \r\n",
        "26.941071 \r\n",
        "25.607204 \r\n",
        "25.837770 \r\n",
        "26.595360 \r\n",
        "26.367548 \r\n",
        "22.186552 \r\n",
        "25.611689 \r\n",
        "23.191486 \r\n",
        "25.670256 \r\n",
        "27.088661 \r\n",
        "25.953733 \r\n",
        "26.091413 \r\n",
        "26.527628 \r\n",
        "26.447914 \r\n",
        "22.279869 \r\n",
        "25.786224 \r\n",
        "23.337667 \r\n",
        "25.739256 \r\n",
        "27.459120 \r\n",
        "26.174114 \r\n",
        "25.953787 \r\n",
        "26.443775 \r\n",
        "26.432976 \r\n",
        "22.062111 \r\n",
        "25.545979 \r\n",
        "23.388004 \r\n",
        "25.873001 \r\n",
        "27.319029 \r\n",
        "26.029243 \r\n",
        "25.784021 \r\n",
        "26.636681 \r\n",
        "26.585413 \r\n",
        "22.055908 \r\n",
        "25.638330 \r\n",
        "23.486374 \r\n",
        "25.880663 \r\n",
        "27.245813 \r\n",
        "25.931620 \r\n",
        "26.329000 \r\n",
        "26.614706 \r\n",
        "26.719868 \r\n",
        "22.219727 \r\n",
        "25.675278 \r\n",
        "23.199732 \r\n",
        "25.970076 \r\n",
        "27.210144 \r\n",
        "26.025820 \r\n",
        "26.530300 \r\n",
        "26.701565 \r\n",
        "26.704861 \r\n",
        "22.200518 \r\n",
        "25.685673 \r\n",
        "23.166485 \r\n",
        "25.884510 \r\n",
        "27.279556 \r\n",
        "25.914433 \r\n",
        "26.397303 \r\n",
        "26.553442 \r\n",
        "26.942694 \r\n",
        "22.291389 \r\n",
        "25.522205 \r\n",
        "23.420853 \r\n",
        "25.575846 \r\n",
        "27.078529 \r\n",
        "25.910444 \r\n",
        "26.387524 \r\n",
        "26.543934 \r\n",
        "27.137289 \r\n",
        "22.195444 \r\n",
        "25.750723 \r\n",
        "23.482109 \r\n",
        "25.748205 \r\n",
        "27.167191 \r\n",
        "25.966572 \r\n",
        "26.215931 \r\n",
        "26.488842 \r\n",
        "27.210245 \r\n",
        "22.516575 \r\n",
        "25.580076 \r\n",
        "23.662056 \r\n",
        "25.772842 \r\n",
        "27.135191 \r\n",
        "25.925760 \r\n",
        "26.327002 \r\n",
        "26.381332 \r\n",
        "27.062733 \r\n",
        "22.426805 \r\n",
        "25.768503 \r\n",
        "23.657820 \r\n",
        "25.800146 \r\n",
        "27.390457 \r\n",
        "26.254974 \r\n",
        "26.478695 \r\n",
        "26.580448 \r\n",
        "27.094097 \r\n",
        "22.404575 \r\n",
        "25.573593 \r\n",
        "23.691492 \r\n",
        "25.570457 \r\n",
        "27.455311 \r\n",
        "26.171957 \r\n",
        "26.399673 \r\n",
        "26.507608 \r\n",
        "26.759930 \r\n",
        "22.419855 \r\n",
        "25.727762 \r\n",
        "23.701033 \r\n",
        "25.500828 \r\n",
        "27.611481 \r\n",
        "26.439695 \r\n",
        "26.210163 \r\n",
        "26.538729 \r\n",
        "26.866106 \r\n",
        "22.684980 \r\n",
        "25.510416 \r\n",
        "23.453396 \r\n",
        "25.407444 \r\n",
        "27.426086 \r\n",
        "26.533026 \r\n",
        "26.234486 \r\n",
        "26.490078 \r\n",
        "26.749838 \r\n",
        "22.581575 \r\n",
        "25.447086 \r\n",
        "23.523510 \r\n",
        "25.260862 \r\n",
        "27.263115 \r\n",
        "26.401903 \r\n",
        "26.481953 \r\n",
        "26.561234 \r\n",
        "27.041998 \r\n",
        "22.448092 \r\n",
        "25.605141 \r\n",
        "23.555494 \r\n",
        "25.200981 \r\n",
        "27.456837 \r\n",
        "26.362022 \r\n",
        "26.383858 \r\n",
        "26.409473 \r\n",
        "27.142145 \r\n",
        "22.554827 \r\n",
        "25.338881 \r\n",
        "23.886904 \r\n",
        "24.990549 \r\n",
        "27.402521 \r\n",
        "26.121622 \r\n",
        "26.193760 \r\n",
        "26.157145 \r\n",
        "27.060303 \r\n",
        "22.615444 \r\n",
        "25.431280 \r\n",
        "23.765375 \r\n",
        "25.032099 \r\n",
        "27.481392 \r\n",
        "25.980593 \r\n",
        "26.269753 \r\n",
        "26.140800 \r\n",
        "27.101467 \r\n",
        "22.635321 \r\n",
        "25.326286 \r\n",
        "23.748646 \r\n",
        "25.023882 \r\n",
        "27.483585 \r\n",
        "25.901094 \r\n",
        "26.395430 \r\n",
        "26.530590 \r\n",
        "27.146706 \r\n",
        "22.639683 \r\n",
        "25.335810 \r\n",
        "23.681122 \r\n",
        "25.179213 \r\n",
        "27.353148 \r\n",
        "25.850460 \r\n",
        "26.398104 \r\n",
        "26.596994 \r\n",
        "27.274525 \r\n",
        "22.586040 \r\n",
        "25.167904 \r\n",
        "23.587128 \r\n",
        "24.937553 \r\n",
        "27.360346 \r\n",
        "25.774149 \r\n",
        "26.223244 \r\n",
        "26.589708 \r\n",
        "27.154772 \r\n",
        "22.573818 \r\n",
        "25.319494 \r\n",
        "23.641985 \r\n",
        "25.266733 \r\n",
        "27.194046 \r\n",
        "25.782721 \r\n",
        "26.104650 \r\n",
        "26.481936 \r\n",
        "27.055374 \r\n",
        "22.710234 \r\n",
        "25.156273 \r\n",
        "23.517805 \r\n",
        "25.122290 \r\n",
        "27.178591 \r\n",
        "25.817924 \r\n",
        "26.021296 \r\n",
        "26.750938 \r\n",
        "27.012857 \r\n",
        "22.626074 \r\n",
        "25.200533 \r\n",
        "23.617176 \r\n",
        "25.084671 \r\n",
        "27.024639 \r\n",
        "25.720366 \r\n",
        "26.108068 \r\n",
        "26.722075 \r\n",
        "26.888731 \r\n",
        "22.603598 \r\n",
        "25.182966 \r\n",
        "23.666618 \r\n",
        "25.273874 \r\n",
        "27.010475 \r\n",
        "25.709583 \r\n",
        "25.953484 \r\n",
        "26.668142 \r\n",
        "26.964294 \r\n",
        "22.722809 \r\n",
        "25.109499 \r\n",
        "23.903538 \r\n",
        "25.254017 \r\n",
        "26.923138 \r\n",
        "25.599995 \r\n",
        "25.925186 \r\n",
        "26.586491 \r\n",
        "26.838142 \r\n",
        "22.740381 \r\n",
        "25.191174 \r\n",
        "24.111652 \r\n",
        "25.081255 \r\n",
        "26.888020 \r\n",
        "25.795681 \r\n",
        "26.014397 \r\n",
        "26.575151 \r\n",
        "26.878164 \r\n",
        "22.895296 \r\n",
        "25.375231 \r\n",
        "24.210178 \r\n",
        "24.889448 \r\n",
        "26.700209 \r\n",
        "25.772701 \r\n",
        "26.030113 \r\n",
        "26.627451 \r\n",
        "26.829191 \r\n",
        "22.941086 \r\n",
        "25.591263 \r\n",
        "24.186094 \r\n",
        "25.064398 \r\n",
        "26.842781 \r\n",
        "25.649359 \r\n",
        "26.018309 \r\n",
        "26.389570 \r\n",
        "26.937794 \r\n",
        "23.093636 \r\n",
        "25.558960 \r\n",
        "24.052425 \r\n",
        "24.940731 \r\n",
        "26.791239 \r\n",
        "25.592487 \r\n",
        "25.832413 \r\n",
        "26.408920 \r\n",
        "27.074295 \r\n",
        "23.110668 \r\n",
        "25.409521 \r\n",
        "24.308855 \r\n",
        "24.742785 \r\n",
        "26.851942 \r\n",
        "25.478914 \r\n",
        "25.904152 \r\n",
        "26.548374 \r\n",
        "27.128494 \r\n",
        "23.146349 \r\n",
        "25.351974 \r\n",
        "24.327692 \r\n",
        "24.860212 \r\n",
        "26.668478 \r\n",
        "25.507013 \r\n",
        "26.030382 \r\n",
        "26.383335 \r\n",
        "27.156876 \r\n",
        "23.187750 \r\n",
        "25.217434 \r\n",
        "24.283957 \r\n",
        "24.997564 \r\n",
        "26.702690 \r\n",
        "25.373047 \r\n",
        "26.204367 \r\n",
        "26.467937 \r\n",
        "27.154610 \r\n",
        "23.061731 \r\n",
        "25.225050 \r\n",
        "24.235735 \r\n",
        "24.956593 \r\n",
        "26.554138 \r\n",
        "25.373220 \r\n",
        "26.218410 \r\n",
        "26.380924 \r\n",
        "27.207977 \r\n",
        "23.193203 \r\n",
        "25.357315 \r\n",
        "24.150450 \r\n",
        "25.005865 \r\n",
        "26.543716 \r\n",
        "25.234573 \r\n",
        "26.261538 \r\n",
        "26.381531 \r\n",
        "27.160233 \r\n",
        "23.159250 \r\n",
        "25.379576 \r\n",
        "24.040243 \r\n",
        "25.444813 \r\n",
        "26.634798 \r\n",
        "25.107954 \r\n",
        "26.517790 \r\n",
        "26.245049 \r\n",
        "27.124115 \r\n",
        "22.982304 \r\n",
        "25.503668 \r\n",
        "24.183846 \r\n",
        "25.465176 \r\n",
        "26.922058 \r\n",
        "24.998253 \r\n",
        "26.299343 \r\n",
        "26.205460 \r\n",
        "27.062016 \r\n",
        "22.860065 \r\n",
        "25.342171 \r\n",
        "24.240429 \r\n",
        "25.502243 \r\n",
        "26.902716 \r\n",
        "24.965132 \r\n",
        "26.216431 \r\n",
        "26.006487 \r\n",
        "27.135452 \r\n",
        "23.082937 \r\n",
        "25.488127 \r\n",
        "24.354519 \r\n",
        "25.498745 \r\n",
        "27.090570 \r\n",
        "24.782642 \r\n",
        "26.277178 \r\n",
        "26.142448 \r\n",
        "27.192570 \r\n",
        "23.127430 \r\n",
        "25.718000 \r\n",
        "24.279230 \r\n",
        "25.490520 \r\n",
        "27.079002 \r\n",
        "24.946899 \r\n",
        "26.193377 \r\n",
        "25.980604 \r\n",
        "27.244362 \r\n",
        "23.121395 \r\n",
        "25.696335 \r\n",
        "24.417393 \r\n",
        "25.472658 \r\n",
        "27.044678 \r\n",
        "25.063583 \r\n",
        "26.172844 \r\n",
        "25.964331 \r\n",
        "27.341179 \r\n",
        "23.141630 \r\n",
        "25.585260 \r\n",
        "24.553299 \r\n",
        "25.416817 \r\n",
        "26.937017 \r\n",
        "24.947144 \r\n",
        "26.220030 \r\n",
        "25.972359 \r\n",
        "27.196474 \r\n",
        "23.219847 \r\n",
        "25.722511 \r\n",
        "24.535511 \r\n",
        "25.414995 \r\n",
        "26.855131 \r\n",
        "24.832527 \r\n",
        "26.363970 \r\n",
        "26.039825 \r\n",
        "27.076303 \r\n",
        "23.183405 \r\n",
        "25.700729 \r\n",
        "24.466063 \r\n",
        "25.487221 \r\n",
        "26.936773 \r\n",
        "24.839668 \r\n",
        "26.376850 \r\n",
        "25.970049 \r\n",
        "26.923012 \r\n",
        "23.186434 \r\n",
        "25.596706 \r\n",
        "24.499424 \r\n",
        "25.556971 \r\n",
        "26.776913 \r\n",
        "24.886850 \r\n",
        "26.287844 \r\n",
        "25.874182 \r\n",
        "27.026794 \r\n",
        "23.315226 \r\n",
        "25.472925 \r\n",
        "24.582676 \r\n",
        "25.619202 \r\n",
        "26.659737 \r\n",
        "24.934023 \r\n",
        "26.253872 \r\n",
        "25.889040 \r\n",
        "26.965618 \r\n",
        "23.161751 \r\n",
        "25.517593 \r\n",
        "24.476215 \r\n",
        "25.567013 \r\n",
        "26.766712 \r\n",
        "24.996412 \r\n",
        "26.363531 \r\n",
        "25.744736 \r\n",
        "26.947140 \r\n",
        "23.132206 \r\n",
        "25.631823 \r\n",
        "24.431280 \r\n",
        "25.438650 \r\n",
        "26.619938 \r\n",
        "25.183897 \r\n",
        "26.294249 \r\n",
        "25.904219 \r\n",
        "26.858040 \r\n",
        "23.077057 \r\n",
        "25.763290 \r\n",
        "24.447058 \r\n",
        "25.477354 \r\n",
        "26.601242 \r\n",
        "25.138918 \r\n",
        "26.417065 \r\n",
        "25.779551 \r\n",
        "27.142166 \r\n",
        "22.996449 \r\n",
        "25.812281 \r\n",
        "24.463905 \r\n",
        "25.467340 \r\n",
        "26.505951 \r\n",
        "25.181261 \r\n",
        "26.365227 \r\n",
        "25.665956 \r\n",
        "27.128580 \r\n",
        "22.950354 \r\n",
        "25.862623 \r\n",
        "24.445303 \r\n",
        "25.476908 \r\n",
        "26.518909 \r\n",
        "25.222332 \r\n",
        "26.533274 \r\n",
        "25.625551 \r\n",
        "27.085909 \r\n",
        "22.963928 \r\n",
        "25.974289 \r\n",
        "24.470875 \r\n",
        "25.705490 \r\n",
        "26.433884 \r\n",
        "25.181793 \r\n",
        "26.422127 \r\n",
        "25.650702 \r\n",
        "27.134708 \r\n",
        "22.892080 \r\n",
        "25.901049 \r\n",
        "24.550457 \r\n",
        "25.837893 \r\n",
        "26.494215 \r\n",
        "25.195890 \r\n",
        "26.370647 \r\n",
        "25.487465 \r\n",
        "27.069117 \r\n",
        "23.025198 \r\n",
        "25.941492 \r\n",
        "24.548096 \r\n"
       ]
      }
     ],
     "prompt_number": 85
    },
    {
     "cell_type": "code",
     "collapsed": false,
     "input": [
      "data = loadtxt(\"tmp.out\")\n",
      "\n",
      "for i in range(n_iters):\n",
      "    \n",
      "    \n",
      "\n",
      "plot(data)"
     ],
     "language": "python",
     "metadata": {},
     "outputs": [
      {
       "metadata": {},
       "output_type": "pyout",
       "prompt_number": 92,
       "text": [
        "[<matplotlib.lines.Line2D at 0x1064a0e10>]"
       ]
      },
      {
       "metadata": {},
       "output_type": "display_data",
       "png": "[encoded data removed]",
       "text": [
        "<matplotlib.figure.Figure at 0x106743390>"
       ]
      }
     ],
     "prompt_number": 92
    },
    {
     "cell_type": "code",
     "collapsed": false,
     "input": [],
     "language": "python",
     "metadata": {},
     "outputs": []
    }
   ],
   "metadata": {}
  }
 ]
}