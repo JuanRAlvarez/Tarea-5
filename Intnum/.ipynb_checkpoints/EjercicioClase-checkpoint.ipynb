{
 "metadata": {
  "name": "",
  "signature": "sha256:0926e1c7de03fc04fcac31aca0c7e4327e43e6d6b1d985197c47d716c4b523a7"
 },
 "nbformat": 3,
 "nbformat_minor": 0,
 "worksheets": [
  {
   "cells": [
    {
     "cell_type": "code",
     "collapsed": false,
     "input": [
      "from subprocess import call\n",
      "%pylab inline"
     ],
     "language": "python",
     "metadata": {},
     "outputs": [
      {
       "output_type": "stream",
       "stream": "stdout",
       "text": [
        "Populating the interactive namespace from numpy and matplotlib\n"
       ]
      }
     ],
     "prompt_number": 56
    },
    {
     "cell_type": "code",
     "collapsed": false,
     "input": [
      "!cat 10dims.c"
     ],
     "language": "python",
     "metadata": {},
     "outputs": [
      {
       "output_type": "stream",
       "stream": "stdout",
       "text": [
        "#include <stdio.h>\r\n",
        "#include <math.h>\r\n",
        "#include <stdlib.h>\r\n",
        "#define USAGE \"USAGE: ./pi.x n_points\"\r\n",
        "#define PI 25.83333333\r\n",
        "\r\n",
        "int main(int argc, char **argv){\r\n",
        "    \r\n",
        "    int n_points;\r\n",
        "    float **x;\r\n",
        "    int i;\r\n",
        "    int j;\r\n",
        "    int k;\r\n",
        "    float a;\r\n",
        "    float q;\r\n",
        "    int seed;\r\n",
        "    float suma;\r\n",
        "    float integrando;\r\n",
        "    float integral;\r\n",
        "    int n_dims;\r\n",
        "    \r\n",
        "    n_dims = 10;\r\n",
        "    \r\n",
        "    \r\n",
        "    j=0;\r\n",
        "    \r\n",
        "    n_points = atoi(argv[1]);\r\n",
        "    seed = atoi(argv[2]);\r\n",
        "    \r\n",
        "    \r\n",
        "    x=malloc(n_points * sizeof(float *));\r\n",
        "    for (i=0;i<n_points;i++){\r\n",
        "        x[i] = malloc(n_dims*sizeof(float));\r\n",
        "    \r\n",
        "    }\r\n",
        "    \r\n",
        "    if (argc!=3) {\r\n",
        "        printf(\"%s\\n\", USAGE);\r\n",
        "        exit(1);\r\n",
        "    }\r\n",
        "    \r\n",
        "    \r\n",
        "    /*printf (\"Using %d points to integrate \\n\", n_points);\r\n",
        "    printf (\"Expected value %f\\n\", PI);*/\r\n",
        "    \r\n",
        "    \r\n",
        "    srand48(seed);\r\n",
        "    \r\n",
        "    integrando = 0.0;\r\n",
        "    \r\n",
        "    for (i=0; i<n_points; i++){\r\n",
        "        suma = 0;\r\n",
        "        for (j=0;j<n_dims;j++){\r\n",
        "        x[i][j] = drand48();\r\n",
        "        suma = suma + x[i][j];\r\n",
        "        }\r\n",
        "        integrando = integrando + pow(suma,2);\r\n",
        "        }\r\n",
        "    \r\n",
        "    integral = integrando/n_points;\r\n",
        "    \r\n",
        "    printf(\"%f \\n\",integral);\r\n",
        "    \r\n",
        "}"
       ]
      }
     ],
     "prompt_number": 34
    },
    {
     "cell_type": "code",
     "collapsed": false,
     "input": [
      "!cc 10dims.c -o 10d.x"
     ],
     "language": "python",
     "metadata": {},
     "outputs": [],
     "prompt_number": 74
    },
    {
     "cell_type": "code",
     "collapsed": false,
     "input": [
      "!ls\n",
      "!rm tmp.out"
     ],
     "language": "python",
     "metadata": {},
     "outputs": [
      {
       "output_type": "stream",
       "stream": "stdout",
       "text": [
        "\u001b[31m10d.x\u001b[m\u001b[m            Untitled0.ipynb  \u001b[31mhola.x\u001b[m\u001b[m           tmp.out\r\n",
        "10dims.c         \u001b[31ma.out\u001b[m\u001b[m            integraapi.c\r\n",
        "SystemCall.ipynb hola.c           \u001b[31mpi.x\u001b[m\u001b[m\r\n"
       ]
      }
     ],
     "prompt_number": 75
    },
    {
     "cell_type": "code",
     "collapsed": false,
     "input": [
      "for j in range(1,10): #Numero de iteraciones#\n",
      "    for i in range(1,10): #Numero de semillas#\n",
      "        command = \"./10d.x %d %d >> tmp.out\"%(j,i)\n",
      "        print command\n",
      "        retcode = call(command,shell=True)"
     ],
     "language": "python",
     "metadata": {},
     "outputs": [
      {
       "output_type": "stream",
       "stream": "stdout",
       "text": [
        "./10d.x 1 1 >> tmp.out\n",
        "./10d.x 1 2 >> tmp.out\n",
        "./10d.x 1 3 >> tmp.out\n",
        "./10d.x 1 4 >> tmp.out\n",
        "./10d.x 1 5 >> tmp.out"
       ]
      },
      {
       "output_type": "stream",
       "stream": "stdout",
       "text": [
        "\n",
        "./10d.x 1 6 >> tmp.out\n",
        "./10d.x 1 7 >> tmp.out\n",
        "./10d.x 1 8 >> tmp.out\n",
        "./10d.x 1 9 >> tmp.out"
       ]
      },
      {
       "output_type": "stream",
       "stream": "stdout",
       "text": [
        "\n",
        "./10d.x 2 1 >> tmp.out\n",
        "./10d.x 2 2 >> tmp.out\n",
        "./10d.x 2 3 >> tmp.out\n",
        "./10d.x 2 4 >> tmp.out"
       ]
      },
      {
       "output_type": "stream",
       "stream": "stdout",
       "text": [
        "\n",
        "./10d.x 2 5 >> tmp.out\n",
        "./10d.x 2 6 >> tmp.out\n",
        "./10d.x 2 7 >> tmp.out\n",
        "./10d.x 2 8 >> tmp.out"
       ]
      },
      {
       "output_type": "stream",
       "stream": "stdout",
       "text": [
        "\n",
        "./10d.x 2 9 >> tmp.out\n",
        "./10d.x 3 1 >> tmp.out\n",
        "./10d.x 3 2 >> tmp.out\n",
        "./10d.x 3 3 >> tmp.out"
       ]
      },
      {
       "output_type": "stream",
       "stream": "stdout",
       "text": [
        "\n",
        "./10d.x 3 4 >> tmp.out\n",
        "./10d.x 3 5 >> tmp.out\n",
        "./10d.x 3 6 >> tmp.out\n",
        "./10d.x 3 7 >> tmp.out"
       ]
      },
      {
       "output_type": "stream",
       "stream": "stdout",
       "text": [
        "\n",
        "./10d.x 3 8 >> tmp.out\n",
        "./10d.x 3 9 >> tmp.out\n",
        "./10d.x 4 1 >> tmp.out\n",
        "./10d.x 4 2 >> tmp.out\n",
        "./10d.x 4 3 >> tmp.out"
       ]
      },
      {
       "output_type": "stream",
       "stream": "stdout",
       "text": [
        "\n",
        "./10d.x 4 4 >> tmp.out\n",
        "./10d.x 4 5 >> tmp.out\n",
        "./10d.x 4 6 >> tmp.out\n",
        "./10d.x 4 7 >> tmp.out\n",
        "./10d.x 4 8 >> tmp.out"
       ]
      },
      {
       "output_type": "stream",
       "stream": "stdout",
       "text": [
        "\n",
        "./10d.x 4 9 >> tmp.out\n",
        "./10d.x 5 1 >> tmp.out\n",
        "./10d.x 5 2 >> tmp.out\n",
        "./10d.x 5 3 >> tmp.out\n",
        "./10d.x 5 4 >> tmp.out"
       ]
      },
      {
       "output_type": "stream",
       "stream": "stdout",
       "text": [
        "\n",
        "./10d.x 5 5 >> tmp.out\n",
        "./10d.x 5 6 >> tmp.out\n",
        "./10d.x 5 7 >> tmp.out\n",
        "./10d.x 5 8 >> tmp.out\n",
        "./10d.x 5 9 >> tmp.out"
       ]
      },
      {
       "output_type": "stream",
       "stream": "stdout",
       "text": [
        "\n",
        "./10d.x 6 1 >> tmp.out\n",
        "./10d.x 6 2 >> tmp.out\n",
        "./10d.x 6 3 >> tmp.out\n",
        "./10d.x 6 4 >> tmp.out\n",
        "./10d.x 6 5 >> tmp.out"
       ]
      },
      {
       "output_type": "stream",
       "stream": "stdout",
       "text": [
        "\n",
        "./10d.x 6 6 >> tmp.out\n",
        "./10d.x 6 7 >> tmp.out\n",
        "./10d.x 6 8 >> tmp.out\n",
        "./10d.x 6 9 >> tmp.out\n",
        "./10d.x 7 1 >> tmp.out"
       ]
      },
      {
       "output_type": "stream",
       "stream": "stdout",
       "text": [
        "\n",
        "./10d.x 7 2 >> tmp.out\n",
        "./10d.x 7 3 >> tmp.out\n",
        "./10d.x 7 4 >> tmp.out\n",
        "./10d.x 7 5 >> tmp.out\n",
        "./10d.x 7 6 >> tmp.out"
       ]
      },
      {
       "output_type": "stream",
       "stream": "stdout",
       "text": [
        "\n",
        "./10d.x 7 7 >> tmp.out\n",
        "./10d.x 7 8 >> tmp.out\n",
        "./10d.x 7 9 >> tmp.out\n",
        "./10d.x 8 1 >> tmp.out\n",
        "./10d.x 8 2 >> tmp.out"
       ]
      },
      {
       "output_type": "stream",
       "stream": "stdout",
       "text": [
        "\n",
        "./10d.x 8 3 >> tmp.out\n",
        "./10d.x 8 4 >> tmp.out\n",
        "./10d.x 8 5 >> tmp.out\n",
        "./10d.x 8 6 >> tmp.out\n",
        "./10d.x 8 7 >> tmp.out"
       ]
      },
      {
       "output_type": "stream",
       "stream": "stdout",
       "text": [
        "\n",
        "./10d.x 8 8 >> tmp.out\n",
        "./10d.x 8 9 >> tmp.out\n",
        "./10d.x 9 1 >> tmp.out\n",
        "./10d.x 9 2 >> tmp.out\n",
        "./10d.x 9 3 >> tmp.out"
       ]
      },
      {
       "output_type": "stream",
       "stream": "stdout",
       "text": [
        "\n",
        "./10d.x 9 4 >> tmp.out\n",
        "./10d.x 9 5 >> tmp.out\n",
        "./10d.x 9 6 >> tmp.out\n",
        "./10d.x 9 7 >> tmp.out\n",
        "./10d.x 9 8 >> tmp.out"
       ]
      },
      {
       "output_type": "stream",
       "stream": "stdout",
       "text": [
        "\n",
        "./10d.x 9 9 >> tmp.out\n"
       ]
      }
     ],
     "prompt_number": 76
    },
    {
     "cell_type": "code",
     "collapsed": false,
     "input": [
      "!cat tmp.out"
     ],
     "language": "python",
     "metadata": {},
     "outputs": [
      {
       "output_type": "stream",
       "stream": "stdout",
       "text": [
        "20.511627 \r\n",
        "37.544094 \r\n",
        "22.331974 \r\n",
        "28.345182 \r\n",
        "24.229698 \r\n",
        "20.436857 \r\n",
        "9.728544 \r\n",
        "22.253948 \r\n",
        "18.625757 \r\n",
        "18.151758 \r\n",
        "35.388718 \r\n",
        "21.543516 \r\n",
        "19.772814 \r\n",
        "25.312534 \r\n",
        "17.935289 \r\n",
        "16.001171 \r\n",
        "32.319939 \r\n",
        "18.563826 \r\n",
        "22.049265 \r\n",
        "33.061638 \r\n",
        "27.162210 \r\n",
        "21.728609 \r\n",
        "28.598595 \r\n",
        "19.628429 \r\n",
        "17.919157 \r\n",
        "28.390291 \r\n",
        "16.224661 \r\n",
        "22.069954 \r\n",
        "27.673132 \r\n",
        "26.823528 \r\n",
        "19.845774 \r\n",
        "28.890238 \r\n",
        "21.335388 \r\n",
        "19.274939 \r\n",
        "26.398520 \r\n",
        "18.946770 \r\n",
        "24.692932 \r\n",
        "26.894962 \r\n",
        "26.108648 \r\n",
        "22.527729 \r\n",
        "27.552383 \r\n",
        "21.405502 \r\n",
        "19.655346 \r\n",
        "25.253626 \r\n",
        "17.596088 \r\n",
        "25.244047 \r\n",
        "27.249474 \r\n",
        "25.106688 \r\n",
        "20.907623 \r\n",
        "28.326872 \r\n",
        "23.387098 \r\n",
        "18.870361 \r\n",
        "25.147728 \r\n",
        "18.926325 \r\n",
        "25.173929 \r\n",
        "25.794781 \r\n",
        "24.145613 \r\n",
        "22.153154 \r\n",
        "28.758455 \r\n",
        "23.275869 \r\n",
        "18.359455 \r\n",
        "26.812984 \r\n",
        "21.754080 \r\n",
        "25.257669 \r\n",
        "24.526049 \r\n",
        "24.039957 \r\n",
        "20.294401 \r\n",
        "26.757124 \r\n",
        "22.832901 \r\n",
        "19.594036 \r\n",
        "24.729742 \r\n",
        "22.231634 \r\n",
        "26.498510 \r\n",
        "23.934599 \r\n",
        "23.853586 \r\n",
        "19.885176 \r\n",
        "25.957272 \r\n",
        "25.387383 \r\n",
        "19.299376 \r\n",
        "24.195015 \r\n",
        "23.511690 \r\n",
        "20.511627 \r\n",
        "37.544094 \r\n",
        "22.331974 \r\n",
        "28.345182 \r\n",
        "24.229698 \r\n",
        "20.436857 \r\n",
        "9.728544 \r\n",
        "22.253948 \r\n",
        "18.625757 \r\n",
        "18.151758 \r\n",
        "35.388718 \r\n",
        "21.543516 \r\n",
        "19.772814 \r\n",
        "25.312534 \r\n",
        "17.935289 \r\n",
        "16.001171 \r\n",
        "32.319939 \r\n",
        "18.563826 \r\n",
        "22.049265 \r\n",
        "33.061638 \r\n",
        "27.162210 \r\n",
        "21.728609 \r\n",
        "28.598595 \r\n",
        "19.628429 \r\n",
        "17.919157 \r\n",
        "28.390291 \r\n",
        "16.224661 \r\n",
        "22.069954 \r\n",
        "27.673132 \r\n",
        "26.823528 \r\n",
        "19.845774 \r\n",
        "28.890238 \r\n",
        "21.335388 \r\n",
        "19.274939 \r\n",
        "26.398520 \r\n",
        "18.946770 \r\n",
        "24.692932 \r\n",
        "26.894962 \r\n",
        "26.108648 \r\n",
        "22.527729 \r\n",
        "27.552383 \r\n",
        "21.405502 \r\n",
        "19.655346 \r\n",
        "25.253626 \r\n",
        "17.596088 \r\n",
        "25.244047 \r\n",
        "27.249474 \r\n",
        "25.106688 \r\n",
        "20.907623 \r\n",
        "28.326872 \r\n",
        "23.387098 \r\n",
        "18.870361 \r\n",
        "25.147728 \r\n",
        "18.926325 \r\n",
        "25.173929 \r\n",
        "25.794781 \r\n",
        "24.145613 \r\n",
        "22.153154 \r\n",
        "28.758455 \r\n",
        "23.275869 \r\n",
        "18.359455 \r\n",
        "26.812984 \r\n",
        "21.754080 \r\n",
        "25.257669 \r\n",
        "24.526049 \r\n",
        "24.039957 \r\n",
        "20.294401 \r\n",
        "26.757124 \r\n",
        "22.832901 \r\n",
        "19.594036 \r\n",
        "24.729742 \r\n",
        "22.231634 \r\n",
        "26.498510 \r\n",
        "23.934599 \r\n",
        "23.853586 \r\n",
        "19.885176 \r\n",
        "25.957272 \r\n",
        "25.387383 \r\n",
        "19.299376 \r\n",
        "24.195015 \r\n",
        "23.511690 \r\n"
       ]
      }
     ],
     "prompt_number": 72
    },
    {
     "cell_type": "code",
     "collapsed": false,
     "input": [
      "data = loadtxt(\"tmp.out\")\n",
      "\n",
      "plot(data)"
     ],
     "language": "python",
     "metadata": {},
     "outputs": [
      {
       "metadata": {},
       "output_type": "pyout",
       "prompt_number": 73,
       "text": [
        "[<matplotlib.lines.Line2D at 0x10637d150>]"
       ]
      },
      {
       "metadata": {},
       "output_type": "display_data",
       "png": "[encoded data removed]",
       "text": [
        "<matplotlib.figure.Figure at 0x106400c10>"
       ]
      }
     ],
     "prompt_number": 73
    },
    {
     "cell_type": "code",
     "collapsed": false,
     "input": [],
     "language": "python",
     "metadata": {},
     "outputs": []
    }
   ],
   "metadata": {}
  }
 ]
}